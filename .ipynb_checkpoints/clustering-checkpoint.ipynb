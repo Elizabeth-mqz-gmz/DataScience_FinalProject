{
 "cells": [
  {
   "cell_type": "markdown",
   "metadata": {},
   "source": [
    "# Clustering "
   ]
  },
  {
   "cell_type": "markdown",
   "metadata": {},
   "source": [
    "## Importación de librerías"
   ]
  },
  {
   "cell_type": "code",
   "execution_count": 1,
   "metadata": {},
   "outputs": [],
   "source": [
    "# Dataframes \n",
    "import pandas as pd\n",
    "import numpy as np\n",
    "\n",
    "# Gráficas\n",
    "import seaborn as sns\n",
    "import matplotlib.pyplot as plt\n",
    "\n",
    "# Reduccion de dimensionalidad\n",
    "from sklearn.decomposition import PCA\n",
    "\n",
    "# Clustering\n",
    "from sklearn.cluster import KMeans\n",
    "from sklearn.cluster import AgglomerativeClustering\n",
    "from sklearn.preprocessing import LabelEncoder\n",
    "from sklearn.feature_extraction.text import TfidfVectorizer\n",
    "from sklearn.preprocessing import MinMaxScaler\n",
    "\n",
    "\n",
    "# Evaluacion de clusters\n",
    "from sklearn.metrics import silhouette_score\n",
    "from sklearn import metrics\n",
    "\n",
    "# Dendograma\n",
    "from scipy.cluster.hierarchy import dendrogram\n"
   ]
  },
  {
   "cell_type": "markdown",
   "metadata": {},
   "source": [
    "## Extracción y manipulación de datos originales"
   ]
  },
  {
   "cell_type": "code",
   "execution_count": 2,
   "metadata": {},
   "outputs": [],
   "source": [
    "## Abrir datos\n",
    "DataX = open(\"./source/trainData.txt\",\"r\")\n",
    "DataY = open(\"./source/trainClasses.txt\",\"r\")\n",
    "DatatestX = open(\"./source/testData.txt\",\"r\")\n",
    "DatatestY = open(\"./source/testClasses.txt\",\"r\")\n",
    "\n",
    "## Parseo de datos\n",
    "def splitFile(File,List):\n",
    "    for line in File:\n",
    "        line = line.replace(\"\\n\",\"\")\n",
    "        List.append(line)\n",
    "    \n",
    "\n",
    "## Convertimos cada línea de nuestros archivos en una entrada de un vector\n",
    "trainX= []\n",
    "trainY= []\n",
    "testX = []\n",
    "testY = []\n",
    "\n",
    "## Generamos la lista de oraciones y clases\n",
    "splitFile(DataX,trainX)\n",
    "splitFile(DataY,trainY)\n",
    "splitFile(DatatestX,testX)\n",
    "splitFile(DatatestY,testY)\n",
    "\n",
    "\n",
    "DataX.close()\n",
    "DataY.close()\n",
    "DatatestX.close()\n",
    "DatatestY.close()"
   ]
  },
  {
   "cell_type": "markdown",
   "metadata": {},
   "source": [
    "## Extracción y manipulación de datos lematizados"
   ]
  },
  {
   "cell_type": "code",
   "execution_count": 3,
   "metadata": {},
   "outputs": [],
   "source": [
    "# Funcion para generar oraciones lematizadas\n",
    "def generateLemma(LemmaFile):\n",
    "    sentences = []\n",
    "    sentence = \"\"\n",
    "    for line in LemmaFile:\n",
    "        if line == \"\\n\":\n",
    "            continue\n",
    "        line = line.split(\"\\t\")\n",
    "        if line[2] != \".\":\n",
    "            sentence = sentence + line[2] + \" \"\n",
    "            continue\n",
    "        if line[2] == \".\":\n",
    "            sentence = sentence + \".\"\n",
    "            sentences.append(sentence)\n",
    "            sentence = \"\"\n",
    "            continue\n",
    "            \n",
    "    return sentences\n"
   ]
  },
  {
   "cell_type": "code",
   "execution_count": 4,
   "metadata": {},
   "outputs": [],
   "source": [
    "# Función para generar las oraciones originales de entrada\n",
    "def originalFile(LemmaFile):\n",
    "    sentences = []\n",
    "    sentence = \"\"\n",
    "    for line in LemmaFile:\n",
    "        if line == \"\\n\":\n",
    "            continue\n",
    "        line = line.split(\"\\t\")\n",
    "        if line[1] != \".\":\n",
    "            sentence = sentence + line[1] + \" \"\n",
    "            continue\n",
    "        if line[1] == \".\":\n",
    "            sentence = sentence + \".\"\n",
    "            sentences.append(sentence)\n",
    "            sentence = \"\"\n",
    "            continue\n",
    "            \n",
    "    return sentences"
   ]
  },
  {
   "cell_type": "code",
   "execution_count": 7,
   "metadata": {},
   "outputs": [
    {
     "name": "stdout",
     "output_type": "stream",
     "text": [
      "Número de oraciones de entrenamiento lematizadas: 1563\n",
      "Número de oraciones de entrenamiento originales: 1563\n"
     ]
    }
   ],
   "source": [
    "# Generar lista de oraciones lematizadas\n",
    "DataSetLemma = open(\"source/trainData.txt.conll\",\"r\")\n",
    "\n",
    "DataLemma = generateLemma(DataSetLemma)\n",
    "print(f'Número de oraciones de entrenamiento lematizadas: {len(DataLemma)}')\n",
    "\n",
    "# Generar lista de oraciones originales de entrada\n",
    "DataSetLemma2 = open(\"source/trainData.txt.conll\",\"r\")\n",
    "OriginalFile = originalFile(DataSetLemma2)\n",
    "\n",
    "print(f'Número de oraciones de entrenamiento originales: {len(OriginalFile)}')"
   ]
  },
  {
   "cell_type": "code",
   "execution_count": 8,
   "metadata": {},
   "outputs": [],
   "source": [
    "# Hacer lista de tuplas entre oración y categoria\n",
    "dataValues = []\n",
    "DataSetLemma2 = open(\"source/trainData.txt.conll\",\"r\")\n",
    "contador = 0\n",
    "for element in trainX:\n",
    "    Value = (element,trainY[contador])\n",
    "    dataValues.append(Value)\n",
    "    contador = contador + 1\n"
   ]
  },
  {
   "cell_type": "code",
   "execution_count": 9,
   "metadata": {},
   "outputs": [],
   "source": [
    "# Encontrar oraciones del primer archivo en las oraciones originales que regreso CoreNLP\n",
    "LemmaDataX = []\n",
    "for sentence1 in trainX:\n",
    "    if sentence1 not in OriginalFile:\n",
    "        continue\n",
    "    LemmaDataX.append(sentence1)\n",
    "    "
   ]
  },
  {
   "cell_type": "code",
   "execution_count": 10,
   "metadata": {},
   "outputs": [],
   "source": [
    "LemmaDataYTrain = []\n",
    "for element in LemmaDataX:\n",
    "    for values in dataValues:\n",
    "        if element == values[0]:\n",
    "            LemmaDataYTrain.append(values[1])\n",
    "            break\n"
   ]
  },
  {
   "cell_type": "code",
   "execution_count": 11,
   "metadata": {},
   "outputs": [],
   "source": [
    "# generar lista de tupplas para asociar originales con lematizados\n",
    "\n",
    "LemmaValues = []\n",
    "contador = 0\n",
    "\n",
    "for element in DataLemma:\n",
    "    Value = (OriginalFile[contador],element)\n",
    "    LemmaValues.append(Value)\n",
    "    contador = contador + 1\n"
   ]
  },
  {
   "cell_type": "code",
   "execution_count": 12,
   "metadata": {},
   "outputs": [],
   "source": [
    "LemmaXTrain = []\n",
    "\n",
    "for values in LemmaValues:\n",
    "    for element in LemmaDataX:\n",
    "        if element == values[0]:\n",
    "            LemmaXTrain.append(values[1])\n",
    "            break\n"
   ]
  },
  {
   "cell_type": "code",
   "execution_count": 13,
   "metadata": {},
   "outputs": [],
   "source": [
    "DataSetLemma.close()\n",
    "DataSetLemma2.close()"
   ]
  },
  {
   "cell_type": "code",
   "execution_count": 15,
   "metadata": {},
   "outputs": [
    {
     "name": "stdout",
     "output_type": "stream",
     "text": [
      "Número de oraciones de prueba lematizadas: 670\n",
      "Número de oraciones de prueba originales: 670\n"
     ]
    }
   ],
   "source": [
    "# Generar lista de oraciones lematizadas\n",
    "DataSetLemma = open(\"source/testData.txt.conll\",\"r\")\n",
    "\n",
    "DataLemma = generateLemma(DataSetLemma)\n",
    "print(f'Número de oraciones de prueba lematizadas: {len(DataLemma)}')\n",
    "\n",
    "\n",
    "# Generar lista de oraciones originales de entrada\n",
    "DataSetLemma2 = open(\"source/testData.txt.conll\",\"r\")\n",
    "OriginalFile = originalFile(DataSetLemma2)\n",
    "\n",
    "print(f'Número de oraciones de prueba originales: {len(OriginalFile)}')"
   ]
  },
  {
   "cell_type": "code",
   "execution_count": 16,
   "metadata": {},
   "outputs": [],
   "source": [
    "# Hacer lista de tuplas entre oración y categoria\n",
    "dataValues = []\n",
    "DataSetLemma2 = open(\"source/testData.txt.conll\",\"r\")\n",
    "contador = 0\n",
    "for element in testX:\n",
    "    Value = (element,testY[contador])\n",
    "    dataValues.append(Value)\n",
    "    contador = contador + 1\n",
    "    "
   ]
  },
  {
   "cell_type": "code",
   "execution_count": 17,
   "metadata": {},
   "outputs": [],
   "source": [
    "# Encontrar oraciones del primer archivo en las oraciones originales que regreso CoreNLP\n",
    "LemmaDataX = []\n",
    "for sentence1 in testX:\n",
    "    if sentence1 not in OriginalFile:\n",
    "        continue\n",
    "    LemmaDataX.append(sentence1)\n",
    "    "
   ]
  },
  {
   "cell_type": "code",
   "execution_count": 18,
   "metadata": {},
   "outputs": [],
   "source": [
    "LemmaDataYTest = []\n",
    "for element in LemmaDataX:\n",
    "    for values in dataValues:\n",
    "        if element == values[0]:\n",
    "            LemmaDataYTest.append(values[1])\n",
    "            break\n"
   ]
  },
  {
   "cell_type": "code",
   "execution_count": 19,
   "metadata": {},
   "outputs": [],
   "source": [
    "# generar lista de tupplas para asociar originales con lematizados\n",
    "\n",
    "LemmaValues = []\n",
    "contador = 0\n",
    "\n",
    "for element in DataLemma:\n",
    "    Value = (OriginalFile[contador],element)\n",
    "    LemmaValues.append(Value)\n",
    "    contador = contador + 1\n"
   ]
  },
  {
   "cell_type": "code",
   "execution_count": 20,
   "metadata": {},
   "outputs": [],
   "source": [
    "LemmaXTest = []\n",
    "\n",
    "for values in LemmaValues:\n",
    "    for element in LemmaDataX:\n",
    "        if element == values[0]:\n",
    "            LemmaXTest.append(values[1])\n",
    "            break\n",
    "        "
   ]
  },
  {
   "cell_type": "code",
   "execution_count": 21,
   "metadata": {},
   "outputs": [],
   "source": [
    "DataSetLemma.close()\n",
    "DataSetLemma2.close()"
   ]
  },
  {
   "cell_type": "code",
   "execution_count": 22,
   "metadata": {},
   "outputs": [
    {
     "name": "stdout",
     "output_type": "stream",
     "text": [
      "Data: 2228\n",
      "Labels: 2228\n",
      "['OTHER', 'OTHER', 'DOM', 'OTHER', 'OTHER']\n"
     ]
    }
   ],
   "source": [
    "## Entrenar al archivo de oraciones\n",
    "\n",
    "xData = LemmaXTrain + LemmaXTest\n",
    "yData = LemmaDataYTrain + LemmaDataYTest\n",
    "\n",
    "print(f'Data: {len(xData)}')\n",
    "print(f'Labels: {len(yData)}')\n",
    "print(f'{yData[:5]}')"
   ]
  },
  {
   "cell_type": "code",
   "execution_count": 23,
   "metadata": {},
   "outputs": [
    {
     "name": "stdout",
     "output_type": "stream",
     "text": [
      "Clases codificadas: [1 1 0 1 1]\n"
     ]
    }
   ],
   "source": [
    "## Codificar la clase de cada dato\n",
    "\n",
    "encoder = LabelEncoder()\n",
    "labels = encoder.fit_transform(yData)\n",
    "print(f'Clases codificadas: {labels[:5]}')"
   ]
  },
  {
   "cell_type": "code",
   "execution_count": 22,
   "metadata": {},
   "outputs": [
    {
     "name": "stdout",
     "output_type": "stream",
     "text": [
      "Nombre de clases: ['DOM' 'OTHER']\n"
     ]
    }
   ],
   "source": [
    "# Visualización por nombre de clases\n",
    "print(f'Nombre de clases: {encoder.classes_}')"
   ]
  },
  {
   "cell_type": "code",
   "execution_count": 24,
   "metadata": {},
   "outputs": [
    {
     "data": {
      "text/html": [
       "<div>\n",
       "<style scoped>\n",
       "    .dataframe tbody tr th:only-of-type {\n",
       "        vertical-align: middle;\n",
       "    }\n",
       "\n",
       "    .dataframe tbody tr th {\n",
       "        vertical-align: top;\n",
       "    }\n",
       "\n",
       "    .dataframe thead th {\n",
       "        text-align: right;\n",
       "    }\n",
       "</style>\n",
       "<table border=\"1\" class=\"dataframe\">\n",
       "  <thead>\n",
       "    <tr style=\"text-align: right;\">\n",
       "      <th></th>\n",
       "      <th>000</th>\n",
       "      <th>05068</th>\n",
       "      <th>094</th>\n",
       "      <th>0x156d848</th>\n",
       "      <th>0x1577a08</th>\n",
       "      <th>0x15b6280</th>\n",
       "      <th>0x15bd560</th>\n",
       "      <th>0x15c0af0</th>\n",
       "      <th>0x15c3fc0</th>\n",
       "      <th>0x1602fd8</th>\n",
       "      <th>...</th>\n",
       "      <th>zn</th>\n",
       "      <th>zn2</th>\n",
       "      <th>znso4</th>\n",
       "      <th>znta</th>\n",
       "      <th>zntr</th>\n",
       "      <th>zrap</th>\n",
       "      <th>zrar</th>\n",
       "      <th>zras</th>\n",
       "      <th>zur</th>\n",
       "      <th>µm</th>\n",
       "    </tr>\n",
       "  </thead>\n",
       "  <tbody>\n",
       "    <tr>\n",
       "      <th>0</th>\n",
       "      <td>0.0</td>\n",
       "      <td>0.0</td>\n",
       "      <td>0.0</td>\n",
       "      <td>0.0</td>\n",
       "      <td>0.0</td>\n",
       "      <td>0.0</td>\n",
       "      <td>0.0</td>\n",
       "      <td>0.0</td>\n",
       "      <td>0.0</td>\n",
       "      <td>0.0</td>\n",
       "      <td>...</td>\n",
       "      <td>0.0</td>\n",
       "      <td>0.0</td>\n",
       "      <td>0.0</td>\n",
       "      <td>0.0</td>\n",
       "      <td>0.0</td>\n",
       "      <td>0.0</td>\n",
       "      <td>0.0</td>\n",
       "      <td>0.0</td>\n",
       "      <td>0.0</td>\n",
       "      <td>0.0</td>\n",
       "    </tr>\n",
       "    <tr>\n",
       "      <th>1</th>\n",
       "      <td>0.0</td>\n",
       "      <td>0.0</td>\n",
       "      <td>0.0</td>\n",
       "      <td>0.0</td>\n",
       "      <td>0.0</td>\n",
       "      <td>0.0</td>\n",
       "      <td>0.0</td>\n",
       "      <td>0.0</td>\n",
       "      <td>0.0</td>\n",
       "      <td>0.0</td>\n",
       "      <td>...</td>\n",
       "      <td>0.0</td>\n",
       "      <td>0.0</td>\n",
       "      <td>0.0</td>\n",
       "      <td>0.0</td>\n",
       "      <td>0.0</td>\n",
       "      <td>0.0</td>\n",
       "      <td>0.0</td>\n",
       "      <td>0.0</td>\n",
       "      <td>0.0</td>\n",
       "      <td>0.0</td>\n",
       "    </tr>\n",
       "    <tr>\n",
       "      <th>2</th>\n",
       "      <td>0.0</td>\n",
       "      <td>0.0</td>\n",
       "      <td>0.0</td>\n",
       "      <td>0.0</td>\n",
       "      <td>0.0</td>\n",
       "      <td>0.0</td>\n",
       "      <td>0.0</td>\n",
       "      <td>0.0</td>\n",
       "      <td>0.0</td>\n",
       "      <td>0.0</td>\n",
       "      <td>...</td>\n",
       "      <td>0.0</td>\n",
       "      <td>0.0</td>\n",
       "      <td>0.0</td>\n",
       "      <td>0.0</td>\n",
       "      <td>0.0</td>\n",
       "      <td>0.0</td>\n",
       "      <td>0.0</td>\n",
       "      <td>0.0</td>\n",
       "      <td>0.0</td>\n",
       "      <td>0.0</td>\n",
       "    </tr>\n",
       "    <tr>\n",
       "      <th>3</th>\n",
       "      <td>0.0</td>\n",
       "      <td>0.0</td>\n",
       "      <td>0.0</td>\n",
       "      <td>0.0</td>\n",
       "      <td>0.0</td>\n",
       "      <td>0.0</td>\n",
       "      <td>0.0</td>\n",
       "      <td>0.0</td>\n",
       "      <td>0.0</td>\n",
       "      <td>0.0</td>\n",
       "      <td>...</td>\n",
       "      <td>0.0</td>\n",
       "      <td>0.0</td>\n",
       "      <td>0.0</td>\n",
       "      <td>0.0</td>\n",
       "      <td>0.0</td>\n",
       "      <td>0.0</td>\n",
       "      <td>0.0</td>\n",
       "      <td>0.0</td>\n",
       "      <td>0.0</td>\n",
       "      <td>0.0</td>\n",
       "    </tr>\n",
       "    <tr>\n",
       "      <th>4</th>\n",
       "      <td>0.0</td>\n",
       "      <td>0.0</td>\n",
       "      <td>0.0</td>\n",
       "      <td>0.0</td>\n",
       "      <td>0.0</td>\n",
       "      <td>0.0</td>\n",
       "      <td>0.0</td>\n",
       "      <td>0.0</td>\n",
       "      <td>0.0</td>\n",
       "      <td>0.0</td>\n",
       "      <td>...</td>\n",
       "      <td>0.0</td>\n",
       "      <td>0.0</td>\n",
       "      <td>0.0</td>\n",
       "      <td>0.0</td>\n",
       "      <td>0.0</td>\n",
       "      <td>0.0</td>\n",
       "      <td>0.0</td>\n",
       "      <td>0.0</td>\n",
       "      <td>0.0</td>\n",
       "      <td>0.0</td>\n",
       "    </tr>\n",
       "    <tr>\n",
       "      <th>...</th>\n",
       "      <td>...</td>\n",
       "      <td>...</td>\n",
       "      <td>...</td>\n",
       "      <td>...</td>\n",
       "      <td>...</td>\n",
       "      <td>...</td>\n",
       "      <td>...</td>\n",
       "      <td>...</td>\n",
       "      <td>...</td>\n",
       "      <td>...</td>\n",
       "      <td>...</td>\n",
       "      <td>...</td>\n",
       "      <td>...</td>\n",
       "      <td>...</td>\n",
       "      <td>...</td>\n",
       "      <td>...</td>\n",
       "      <td>...</td>\n",
       "      <td>...</td>\n",
       "      <td>...</td>\n",
       "      <td>...</td>\n",
       "      <td>...</td>\n",
       "    </tr>\n",
       "    <tr>\n",
       "      <th>2223</th>\n",
       "      <td>0.0</td>\n",
       "      <td>0.0</td>\n",
       "      <td>0.0</td>\n",
       "      <td>0.0</td>\n",
       "      <td>0.0</td>\n",
       "      <td>0.0</td>\n",
       "      <td>0.0</td>\n",
       "      <td>0.0</td>\n",
       "      <td>0.0</td>\n",
       "      <td>0.0</td>\n",
       "      <td>...</td>\n",
       "      <td>0.0</td>\n",
       "      <td>0.0</td>\n",
       "      <td>0.0</td>\n",
       "      <td>0.0</td>\n",
       "      <td>0.0</td>\n",
       "      <td>0.0</td>\n",
       "      <td>0.0</td>\n",
       "      <td>0.0</td>\n",
       "      <td>0.0</td>\n",
       "      <td>0.0</td>\n",
       "    </tr>\n",
       "    <tr>\n",
       "      <th>2224</th>\n",
       "      <td>0.0</td>\n",
       "      <td>0.0</td>\n",
       "      <td>0.0</td>\n",
       "      <td>0.0</td>\n",
       "      <td>0.0</td>\n",
       "      <td>0.0</td>\n",
       "      <td>0.0</td>\n",
       "      <td>0.0</td>\n",
       "      <td>0.0</td>\n",
       "      <td>0.0</td>\n",
       "      <td>...</td>\n",
       "      <td>0.0</td>\n",
       "      <td>0.0</td>\n",
       "      <td>0.0</td>\n",
       "      <td>0.0</td>\n",
       "      <td>0.0</td>\n",
       "      <td>0.0</td>\n",
       "      <td>0.0</td>\n",
       "      <td>0.0</td>\n",
       "      <td>0.0</td>\n",
       "      <td>0.0</td>\n",
       "    </tr>\n",
       "    <tr>\n",
       "      <th>2225</th>\n",
       "      <td>0.0</td>\n",
       "      <td>0.0</td>\n",
       "      <td>0.0</td>\n",
       "      <td>0.0</td>\n",
       "      <td>0.0</td>\n",
       "      <td>0.0</td>\n",
       "      <td>0.0</td>\n",
       "      <td>0.0</td>\n",
       "      <td>0.0</td>\n",
       "      <td>0.0</td>\n",
       "      <td>...</td>\n",
       "      <td>0.0</td>\n",
       "      <td>0.0</td>\n",
       "      <td>0.0</td>\n",
       "      <td>0.0</td>\n",
       "      <td>0.0</td>\n",
       "      <td>0.0</td>\n",
       "      <td>0.0</td>\n",
       "      <td>0.0</td>\n",
       "      <td>0.0</td>\n",
       "      <td>0.0</td>\n",
       "    </tr>\n",
       "    <tr>\n",
       "      <th>2226</th>\n",
       "      <td>0.0</td>\n",
       "      <td>0.0</td>\n",
       "      <td>0.0</td>\n",
       "      <td>0.0</td>\n",
       "      <td>0.0</td>\n",
       "      <td>0.0</td>\n",
       "      <td>0.0</td>\n",
       "      <td>0.0</td>\n",
       "      <td>0.0</td>\n",
       "      <td>0.0</td>\n",
       "      <td>...</td>\n",
       "      <td>0.0</td>\n",
       "      <td>0.0</td>\n",
       "      <td>0.0</td>\n",
       "      <td>0.0</td>\n",
       "      <td>0.0</td>\n",
       "      <td>0.0</td>\n",
       "      <td>0.0</td>\n",
       "      <td>0.0</td>\n",
       "      <td>0.0</td>\n",
       "      <td>0.0</td>\n",
       "    </tr>\n",
       "    <tr>\n",
       "      <th>2227</th>\n",
       "      <td>0.0</td>\n",
       "      <td>0.0</td>\n",
       "      <td>0.0</td>\n",
       "      <td>0.0</td>\n",
       "      <td>0.0</td>\n",
       "      <td>0.0</td>\n",
       "      <td>0.0</td>\n",
       "      <td>0.0</td>\n",
       "      <td>0.0</td>\n",
       "      <td>0.0</td>\n",
       "      <td>...</td>\n",
       "      <td>0.0</td>\n",
       "      <td>0.0</td>\n",
       "      <td>0.0</td>\n",
       "      <td>0.0</td>\n",
       "      <td>0.0</td>\n",
       "      <td>0.0</td>\n",
       "      <td>0.0</td>\n",
       "      <td>0.0</td>\n",
       "      <td>0.0</td>\n",
       "      <td>0.0</td>\n",
       "    </tr>\n",
       "  </tbody>\n",
       "</table>\n",
       "<p>2228 rows × 3652 columns</p>\n",
       "</div>"
      ],
      "text/plain": [
       "      000  05068  094  0x156d848  0x1577a08  0x15b6280  0x15bd560  0x15c0af0  \\\n",
       "0     0.0    0.0  0.0        0.0        0.0        0.0        0.0        0.0   \n",
       "1     0.0    0.0  0.0        0.0        0.0        0.0        0.0        0.0   \n",
       "2     0.0    0.0  0.0        0.0        0.0        0.0        0.0        0.0   \n",
       "3     0.0    0.0  0.0        0.0        0.0        0.0        0.0        0.0   \n",
       "4     0.0    0.0  0.0        0.0        0.0        0.0        0.0        0.0   \n",
       "...   ...    ...  ...        ...        ...        ...        ...        ...   \n",
       "2223  0.0    0.0  0.0        0.0        0.0        0.0        0.0        0.0   \n",
       "2224  0.0    0.0  0.0        0.0        0.0        0.0        0.0        0.0   \n",
       "2225  0.0    0.0  0.0        0.0        0.0        0.0        0.0        0.0   \n",
       "2226  0.0    0.0  0.0        0.0        0.0        0.0        0.0        0.0   \n",
       "2227  0.0    0.0  0.0        0.0        0.0        0.0        0.0        0.0   \n",
       "\n",
       "      0x15c3fc0  0x1602fd8  ...   zn  zn2  znso4  znta  zntr  zrap  zrar  \\\n",
       "0           0.0        0.0  ...  0.0  0.0    0.0   0.0   0.0   0.0   0.0   \n",
       "1           0.0        0.0  ...  0.0  0.0    0.0   0.0   0.0   0.0   0.0   \n",
       "2           0.0        0.0  ...  0.0  0.0    0.0   0.0   0.0   0.0   0.0   \n",
       "3           0.0        0.0  ...  0.0  0.0    0.0   0.0   0.0   0.0   0.0   \n",
       "4           0.0        0.0  ...  0.0  0.0    0.0   0.0   0.0   0.0   0.0   \n",
       "...         ...        ...  ...  ...  ...    ...   ...   ...   ...   ...   \n",
       "2223        0.0        0.0  ...  0.0  0.0    0.0   0.0   0.0   0.0   0.0   \n",
       "2224        0.0        0.0  ...  0.0  0.0    0.0   0.0   0.0   0.0   0.0   \n",
       "2225        0.0        0.0  ...  0.0  0.0    0.0   0.0   0.0   0.0   0.0   \n",
       "2226        0.0        0.0  ...  0.0  0.0    0.0   0.0   0.0   0.0   0.0   \n",
       "2227        0.0        0.0  ...  0.0  0.0    0.0   0.0   0.0   0.0   0.0   \n",
       "\n",
       "      zras  zur   µm  \n",
       "0      0.0  0.0  0.0  \n",
       "1      0.0  0.0  0.0  \n",
       "2      0.0  0.0  0.0  \n",
       "3      0.0  0.0  0.0  \n",
       "4      0.0  0.0  0.0  \n",
       "...    ...  ...  ...  \n",
       "2223   0.0  0.0  0.0  \n",
       "2224   0.0  0.0  0.0  \n",
       "2225   0.0  0.0  0.0  \n",
       "2226   0.0  0.0  0.0  \n",
       "2227   0.0  0.0  0.0  \n",
       "\n",
       "[2228 rows x 3652 columns]"
      ]
     },
     "execution_count": 24,
     "metadata": {},
     "output_type": "execute_result"
    }
   ],
   "source": [
    "## Vectorización de las oraciones\n",
    "\n",
    "vectorizer = TfidfVectorizer()\n",
    "\n",
    "xVec = vectorizer.fit_transform(xData)\n",
    "xCount = pd.DataFrame(xVec.todense(), columns = vectorizer.get_feature_names())\n",
    "xCount"
   ]
  },
  {
   "cell_type": "code",
   "execution_count": 25,
   "metadata": {},
   "outputs": [
    {
     "data": {
      "text/html": [
       "<div>\n",
       "<style scoped>\n",
       "    .dataframe tbody tr th:only-of-type {\n",
       "        vertical-align: middle;\n",
       "    }\n",
       "\n",
       "    .dataframe tbody tr th {\n",
       "        vertical-align: top;\n",
       "    }\n",
       "\n",
       "    .dataframe thead th {\n",
       "        text-align: right;\n",
       "    }\n",
       "</style>\n",
       "<table border=\"1\" class=\"dataframe\">\n",
       "  <thead>\n",
       "    <tr style=\"text-align: right;\">\n",
       "      <th></th>\n",
       "      <th>000</th>\n",
       "      <th>05068</th>\n",
       "      <th>094</th>\n",
       "      <th>0x156d848</th>\n",
       "      <th>0x1577a08</th>\n",
       "      <th>0x15b6280</th>\n",
       "      <th>0x15bd560</th>\n",
       "      <th>0x15c0af0</th>\n",
       "      <th>0x15c3fc0</th>\n",
       "      <th>0x1602fd8</th>\n",
       "      <th>...</th>\n",
       "      <th>zn</th>\n",
       "      <th>zn2</th>\n",
       "      <th>znso4</th>\n",
       "      <th>znta</th>\n",
       "      <th>zntr</th>\n",
       "      <th>zrap</th>\n",
       "      <th>zrar</th>\n",
       "      <th>zras</th>\n",
       "      <th>zur</th>\n",
       "      <th>µm</th>\n",
       "    </tr>\n",
       "  </thead>\n",
       "  <tbody>\n",
       "    <tr>\n",
       "      <th>0</th>\n",
       "      <td>0.0</td>\n",
       "      <td>0.0</td>\n",
       "      <td>0.0</td>\n",
       "      <td>0.0</td>\n",
       "      <td>0.0</td>\n",
       "      <td>0.0</td>\n",
       "      <td>0.0</td>\n",
       "      <td>0.0</td>\n",
       "      <td>0.0</td>\n",
       "      <td>0.0</td>\n",
       "      <td>...</td>\n",
       "      <td>0.0</td>\n",
       "      <td>0.0</td>\n",
       "      <td>0.0</td>\n",
       "      <td>0.0</td>\n",
       "      <td>0.0</td>\n",
       "      <td>0.0</td>\n",
       "      <td>0.0</td>\n",
       "      <td>0.0</td>\n",
       "      <td>0.0</td>\n",
       "      <td>0.0</td>\n",
       "    </tr>\n",
       "    <tr>\n",
       "      <th>1</th>\n",
       "      <td>0.0</td>\n",
       "      <td>0.0</td>\n",
       "      <td>0.0</td>\n",
       "      <td>0.0</td>\n",
       "      <td>0.0</td>\n",
       "      <td>0.0</td>\n",
       "      <td>0.0</td>\n",
       "      <td>0.0</td>\n",
       "      <td>0.0</td>\n",
       "      <td>0.0</td>\n",
       "      <td>...</td>\n",
       "      <td>0.0</td>\n",
       "      <td>0.0</td>\n",
       "      <td>0.0</td>\n",
       "      <td>0.0</td>\n",
       "      <td>0.0</td>\n",
       "      <td>0.0</td>\n",
       "      <td>0.0</td>\n",
       "      <td>0.0</td>\n",
       "      <td>0.0</td>\n",
       "      <td>0.0</td>\n",
       "    </tr>\n",
       "    <tr>\n",
       "      <th>2</th>\n",
       "      <td>0.0</td>\n",
       "      <td>0.0</td>\n",
       "      <td>0.0</td>\n",
       "      <td>0.0</td>\n",
       "      <td>0.0</td>\n",
       "      <td>0.0</td>\n",
       "      <td>0.0</td>\n",
       "      <td>0.0</td>\n",
       "      <td>0.0</td>\n",
       "      <td>0.0</td>\n",
       "      <td>...</td>\n",
       "      <td>0.0</td>\n",
       "      <td>0.0</td>\n",
       "      <td>0.0</td>\n",
       "      <td>0.0</td>\n",
       "      <td>0.0</td>\n",
       "      <td>0.0</td>\n",
       "      <td>0.0</td>\n",
       "      <td>0.0</td>\n",
       "      <td>0.0</td>\n",
       "      <td>0.0</td>\n",
       "    </tr>\n",
       "    <tr>\n",
       "      <th>3</th>\n",
       "      <td>0.0</td>\n",
       "      <td>0.0</td>\n",
       "      <td>0.0</td>\n",
       "      <td>0.0</td>\n",
       "      <td>0.0</td>\n",
       "      <td>0.0</td>\n",
       "      <td>0.0</td>\n",
       "      <td>0.0</td>\n",
       "      <td>0.0</td>\n",
       "      <td>0.0</td>\n",
       "      <td>...</td>\n",
       "      <td>0.0</td>\n",
       "      <td>0.0</td>\n",
       "      <td>0.0</td>\n",
       "      <td>0.0</td>\n",
       "      <td>0.0</td>\n",
       "      <td>0.0</td>\n",
       "      <td>0.0</td>\n",
       "      <td>0.0</td>\n",
       "      <td>0.0</td>\n",
       "      <td>0.0</td>\n",
       "    </tr>\n",
       "    <tr>\n",
       "      <th>4</th>\n",
       "      <td>0.0</td>\n",
       "      <td>0.0</td>\n",
       "      <td>0.0</td>\n",
       "      <td>0.0</td>\n",
       "      <td>0.0</td>\n",
       "      <td>0.0</td>\n",
       "      <td>0.0</td>\n",
       "      <td>0.0</td>\n",
       "      <td>0.0</td>\n",
       "      <td>0.0</td>\n",
       "      <td>...</td>\n",
       "      <td>0.0</td>\n",
       "      <td>0.0</td>\n",
       "      <td>0.0</td>\n",
       "      <td>0.0</td>\n",
       "      <td>0.0</td>\n",
       "      <td>0.0</td>\n",
       "      <td>0.0</td>\n",
       "      <td>0.0</td>\n",
       "      <td>0.0</td>\n",
       "      <td>0.0</td>\n",
       "    </tr>\n",
       "    <tr>\n",
       "      <th>...</th>\n",
       "      <td>...</td>\n",
       "      <td>...</td>\n",
       "      <td>...</td>\n",
       "      <td>...</td>\n",
       "      <td>...</td>\n",
       "      <td>...</td>\n",
       "      <td>...</td>\n",
       "      <td>...</td>\n",
       "      <td>...</td>\n",
       "      <td>...</td>\n",
       "      <td>...</td>\n",
       "      <td>...</td>\n",
       "      <td>...</td>\n",
       "      <td>...</td>\n",
       "      <td>...</td>\n",
       "      <td>...</td>\n",
       "      <td>...</td>\n",
       "      <td>...</td>\n",
       "      <td>...</td>\n",
       "      <td>...</td>\n",
       "      <td>...</td>\n",
       "    </tr>\n",
       "    <tr>\n",
       "      <th>2223</th>\n",
       "      <td>0.0</td>\n",
       "      <td>0.0</td>\n",
       "      <td>0.0</td>\n",
       "      <td>0.0</td>\n",
       "      <td>0.0</td>\n",
       "      <td>0.0</td>\n",
       "      <td>0.0</td>\n",
       "      <td>0.0</td>\n",
       "      <td>0.0</td>\n",
       "      <td>0.0</td>\n",
       "      <td>...</td>\n",
       "      <td>0.0</td>\n",
       "      <td>0.0</td>\n",
       "      <td>0.0</td>\n",
       "      <td>0.0</td>\n",
       "      <td>0.0</td>\n",
       "      <td>0.0</td>\n",
       "      <td>0.0</td>\n",
       "      <td>0.0</td>\n",
       "      <td>0.0</td>\n",
       "      <td>0.0</td>\n",
       "    </tr>\n",
       "    <tr>\n",
       "      <th>2224</th>\n",
       "      <td>0.0</td>\n",
       "      <td>0.0</td>\n",
       "      <td>0.0</td>\n",
       "      <td>0.0</td>\n",
       "      <td>0.0</td>\n",
       "      <td>0.0</td>\n",
       "      <td>0.0</td>\n",
       "      <td>0.0</td>\n",
       "      <td>0.0</td>\n",
       "      <td>0.0</td>\n",
       "      <td>...</td>\n",
       "      <td>0.0</td>\n",
       "      <td>0.0</td>\n",
       "      <td>0.0</td>\n",
       "      <td>0.0</td>\n",
       "      <td>0.0</td>\n",
       "      <td>0.0</td>\n",
       "      <td>0.0</td>\n",
       "      <td>0.0</td>\n",
       "      <td>0.0</td>\n",
       "      <td>0.0</td>\n",
       "    </tr>\n",
       "    <tr>\n",
       "      <th>2225</th>\n",
       "      <td>0.0</td>\n",
       "      <td>0.0</td>\n",
       "      <td>0.0</td>\n",
       "      <td>0.0</td>\n",
       "      <td>0.0</td>\n",
       "      <td>0.0</td>\n",
       "      <td>0.0</td>\n",
       "      <td>0.0</td>\n",
       "      <td>0.0</td>\n",
       "      <td>0.0</td>\n",
       "      <td>...</td>\n",
       "      <td>0.0</td>\n",
       "      <td>0.0</td>\n",
       "      <td>0.0</td>\n",
       "      <td>0.0</td>\n",
       "      <td>0.0</td>\n",
       "      <td>0.0</td>\n",
       "      <td>0.0</td>\n",
       "      <td>0.0</td>\n",
       "      <td>0.0</td>\n",
       "      <td>0.0</td>\n",
       "    </tr>\n",
       "    <tr>\n",
       "      <th>2226</th>\n",
       "      <td>0.0</td>\n",
       "      <td>0.0</td>\n",
       "      <td>0.0</td>\n",
       "      <td>0.0</td>\n",
       "      <td>0.0</td>\n",
       "      <td>0.0</td>\n",
       "      <td>0.0</td>\n",
       "      <td>0.0</td>\n",
       "      <td>0.0</td>\n",
       "      <td>0.0</td>\n",
       "      <td>...</td>\n",
       "      <td>0.0</td>\n",
       "      <td>0.0</td>\n",
       "      <td>0.0</td>\n",
       "      <td>0.0</td>\n",
       "      <td>0.0</td>\n",
       "      <td>0.0</td>\n",
       "      <td>0.0</td>\n",
       "      <td>0.0</td>\n",
       "      <td>0.0</td>\n",
       "      <td>0.0</td>\n",
       "    </tr>\n",
       "    <tr>\n",
       "      <th>2227</th>\n",
       "      <td>0.0</td>\n",
       "      <td>0.0</td>\n",
       "      <td>0.0</td>\n",
       "      <td>0.0</td>\n",
       "      <td>0.0</td>\n",
       "      <td>0.0</td>\n",
       "      <td>0.0</td>\n",
       "      <td>0.0</td>\n",
       "      <td>0.0</td>\n",
       "      <td>0.0</td>\n",
       "      <td>...</td>\n",
       "      <td>0.0</td>\n",
       "      <td>0.0</td>\n",
       "      <td>0.0</td>\n",
       "      <td>0.0</td>\n",
       "      <td>0.0</td>\n",
       "      <td>0.0</td>\n",
       "      <td>0.0</td>\n",
       "      <td>0.0</td>\n",
       "      <td>0.0</td>\n",
       "      <td>0.0</td>\n",
       "    </tr>\n",
       "  </tbody>\n",
       "</table>\n",
       "<p>2228 rows × 3652 columns</p>\n",
       "</div>"
      ],
      "text/plain": [
       "      000  05068  094  0x156d848  0x1577a08  0x15b6280  0x15bd560  0x15c0af0  \\\n",
       "0     0.0    0.0  0.0        0.0        0.0        0.0        0.0        0.0   \n",
       "1     0.0    0.0  0.0        0.0        0.0        0.0        0.0        0.0   \n",
       "2     0.0    0.0  0.0        0.0        0.0        0.0        0.0        0.0   \n",
       "3     0.0    0.0  0.0        0.0        0.0        0.0        0.0        0.0   \n",
       "4     0.0    0.0  0.0        0.0        0.0        0.0        0.0        0.0   \n",
       "...   ...    ...  ...        ...        ...        ...        ...        ...   \n",
       "2223  0.0    0.0  0.0        0.0        0.0        0.0        0.0        0.0   \n",
       "2224  0.0    0.0  0.0        0.0        0.0        0.0        0.0        0.0   \n",
       "2225  0.0    0.0  0.0        0.0        0.0        0.0        0.0        0.0   \n",
       "2226  0.0    0.0  0.0        0.0        0.0        0.0        0.0        0.0   \n",
       "2227  0.0    0.0  0.0        0.0        0.0        0.0        0.0        0.0   \n",
       "\n",
       "      0x15c3fc0  0x1602fd8  ...   zn  zn2  znso4  znta  zntr  zrap  zrar  \\\n",
       "0           0.0        0.0  ...  0.0  0.0    0.0   0.0   0.0   0.0   0.0   \n",
       "1           0.0        0.0  ...  0.0  0.0    0.0   0.0   0.0   0.0   0.0   \n",
       "2           0.0        0.0  ...  0.0  0.0    0.0   0.0   0.0   0.0   0.0   \n",
       "3           0.0        0.0  ...  0.0  0.0    0.0   0.0   0.0   0.0   0.0   \n",
       "4           0.0        0.0  ...  0.0  0.0    0.0   0.0   0.0   0.0   0.0   \n",
       "...         ...        ...  ...  ...  ...    ...   ...   ...   ...   ...   \n",
       "2223        0.0        0.0  ...  0.0  0.0    0.0   0.0   0.0   0.0   0.0   \n",
       "2224        0.0        0.0  ...  0.0  0.0    0.0   0.0   0.0   0.0   0.0   \n",
       "2225        0.0        0.0  ...  0.0  0.0    0.0   0.0   0.0   0.0   0.0   \n",
       "2226        0.0        0.0  ...  0.0  0.0    0.0   0.0   0.0   0.0   0.0   \n",
       "2227        0.0        0.0  ...  0.0  0.0    0.0   0.0   0.0   0.0   0.0   \n",
       "\n",
       "      zras  zur   µm  \n",
       "0      0.0  0.0  0.0  \n",
       "1      0.0  0.0  0.0  \n",
       "2      0.0  0.0  0.0  \n",
       "3      0.0  0.0  0.0  \n",
       "4      0.0  0.0  0.0  \n",
       "...    ...  ...  ...  \n",
       "2223   0.0  0.0  0.0  \n",
       "2224   0.0  0.0  0.0  \n",
       "2225   0.0  0.0  0.0  \n",
       "2226   0.0  0.0  0.0  \n",
       "2227   0.0  0.0  0.0  \n",
       "\n",
       "[2228 rows x 3652 columns]"
      ]
     },
     "execution_count": 25,
     "metadata": {},
     "output_type": "execute_result"
    }
   ],
   "source": [
    "## Escalamiento de los datos\n",
    "\n",
    "scaler = MinMaxScaler()\n",
    "scaledSet = scaler.fit_transform(xCount)\n",
    "scaledSet = pd.DataFrame(scaledSet, columns = xCount.columns, index = xCount.index)\n",
    "scaledSet"
   ]
  },
  {
   "cell_type": "markdown",
   "metadata": {},
   "source": [
    "# Reducción de dimensionalidad por PCA"
   ]
  },
  {
   "cell_type": "code",
   "execution_count": 26,
   "metadata": {},
   "outputs": [
    {
     "name": "stdout",
     "output_type": "stream",
     "text": [
      "Número de componentes: 1256\n"
     ]
    }
   ],
   "source": [
    "## Aplicar reducción por PCA\n",
    "\n",
    "pca = PCA(n_components = 0.95, svd_solver = 'full')\n",
    "dataPCA = pca.fit_transform(scaledSet)\n",
    "print(f'Número de componentes: {pca.n_components_}')"
   ]
  },
  {
   "cell_type": "markdown",
   "metadata": {},
   "source": [
    "## Clustering con método K-Means de datos no reducidos "
   ]
  },
  {
   "cell_type": "code",
   "execution_count": 26,
   "metadata": {},
   "outputs": [],
   "source": [
    "## Crear función para usar el método de K-Means\n",
    "def clustering_kmeans(n, data):  \n",
    "    np.random.seed(9)\n",
    "    ## Creamos el modelo con la funcion KMeans\n",
    "    kmeans = KMeans(n_clusters = n, random_state = 42)\n",
    "    ## Ajustar el modelo\n",
    "    kmeans.fit(X = data)\n",
    "    ## Predicción de clusters\n",
    "    y_predict = kmeans.predict(X = data)\n",
    "    ## Crear paleta\n",
    "    palette = sns.color_palette(\"husl\", n)\n",
    "    \n",
    "    ## Retornar valores de modelo, predicción y paleta\n",
    "    return(kmeans, y_predict, palette)"
   ]
  },
  {
   "cell_type": "code",
   "execution_count": 29,
   "metadata": {},
   "outputs": [
    {
     "name": "stderr",
     "output_type": "stream",
     "text": [
      "/usr/local/lib/python3.8/site-packages/seaborn/_decorators.py:36: FutureWarning: Pass the following variables as keyword args: x, y. From version 0.12, the only valid positional argument will be `data`, and passing other arguments without an explicit keyword will result in an error or misinterpretation.\n",
      "  warnings.warn(\n"
     ]
    },
    {
     "data": {
      "text/plain": [
       "Text(0.5, 1.0, 'Clustering con datos no reducidos')"
      ]
     },
     "execution_count": 29,
     "metadata": {},
     "output_type": "execute_result"
    },
    {
     "data": {
      "image/png": "[encoded data removed]",
      "text/plain": [
       "<Figure size 432x288 with 1 Axes>"
      ]
     },
     "metadata": {
      "needs_background": "light"
     },
     "output_type": "display_data"
    }
   ],
   "source": [
    "## Obtener modelo y predicciones con la función creada\n",
    "kmeans, yPredictRaw, palette = clustering_kmeans(2, scaledSet)\n",
    "\n",
    "## Asignación de clases\n",
    "class_corr = [[0, 1], ['OTHER', 'DOM']]\n",
    "classesTag = ['DOM' if i == class_corr[0][0] else 'OTHER' if i == class_corr[0][1] else i for i in yPredictRaw]\n",
    "classesTag = np.array(classesTag)\n",
    "\n",
    "sns.scatterplot(dataPCA[:,0], dataPCA[:,1], hue = classesTag, legend = 'full', palette = palette)\n",
    "plt.title('Clustering con datos no reducidos', size=15)"
   ]
  },
  {
   "cell_type": "code",
   "execution_count": 30,
   "metadata": {
    "scrolled": false
   },
   "outputs": [
    {
     "data": {
      "text/html": [
       "<div>\n",
       "<style scoped>\n",
       "    .dataframe tbody tr th:only-of-type {\n",
       "        vertical-align: middle;\n",
       "    }\n",
       "\n",
       "    .dataframe tbody tr th {\n",
       "        vertical-align: top;\n",
       "    }\n",
       "\n",
       "    .dataframe thead th {\n",
       "        text-align: right;\n",
       "    }\n",
       "</style>\n",
       "<table border=\"1\" class=\"dataframe\">\n",
       "  <thead>\n",
       "    <tr style=\"text-align: right;\">\n",
       "      <th>Pred</th>\n",
       "      <th>0</th>\n",
       "      <th>1</th>\n",
       "    </tr>\n",
       "    <tr>\n",
       "      <th>True</th>\n",
       "      <th></th>\n",
       "      <th></th>\n",
       "    </tr>\n",
       "  </thead>\n",
       "  <tbody>\n",
       "    <tr>\n",
       "      <th>0</th>\n",
       "      <td>221</td>\n",
       "      <td>107</td>\n",
       "    </tr>\n",
       "    <tr>\n",
       "      <th>1</th>\n",
       "      <td>671</td>\n",
       "      <td>1229</td>\n",
       "    </tr>\n",
       "  </tbody>\n",
       "</table>\n",
       "</div>"
      ],
      "text/plain": [
       "Pred    0     1\n",
       "True           \n",
       "0     221   107\n",
       "1     671  1229"
      ]
     },
     "execution_count": 30,
     "metadata": {},
     "output_type": "execute_result"
    }
   ],
   "source": [
    "## Matriz de confusión\n",
    "pd.crosstab(labels, yPredictRaw, dropna = False, rownames = ['True'], colnames = ['Pred'])"
   ]
  },
  {
   "cell_type": "markdown",
   "metadata": {},
   "source": [
    "## Evaluación con \"silhouette method\""
   ]
  },
  {
   "cell_type": "code",
   "execution_count": 31,
   "metadata": {},
   "outputs": [],
   "source": [
    "silhouettes = []\n",
    "\n",
    "## Ajustamos modelos desde k = 2 hasta k = 12\n",
    "for n in range(2, 12):\n",
    "    ## Ajustamos el modelo con el valor de k de cada iteracion\n",
    "    kmeans, yPredictRaw, palette = clustering_kmeans(n, scaledSet)\n",
    "    silhouette = silhouette_score(scaledSet, yPredictRaw)\n",
    "    silhouettes.append(silhouette)\n"
   ]
  },
  {
   "cell_type": "code",
   "execution_count": 33,
   "metadata": {},
   "outputs": [
    {
     "data": {
      "image/png": "[encoded data removed]",
      "text/plain": [
       "<Figure size 432x288 with 1 Axes>"
      ]
     },
     "metadata": {
      "needs_background": "light"
     },
     "output_type": "display_data"
    }
   ],
   "source": [
    "## Graficamos\n",
    "fig, ax = plt.subplots(1, 1)\n",
    "ax.plot(range(2, 12), silhouettes, marker = 'o')\n",
    "ax.set_title(\"Evolución de la silueta por numero de clusters \\nclustering K-means con datos no reducidos\")\n",
    "ax.set_xlabel('Número de clusters')\n",
    "ax.set_ylabel('Silueta');"
   ]
  },
  {
   "cell_type": "markdown",
   "metadata": {},
   "source": [
    "## Clustering con método K-Means de datos reducidos "
   ]
  },
  {
   "cell_type": "code",
   "execution_count": 34,
   "metadata": {},
   "outputs": [
    {
     "name": "stderr",
     "output_type": "stream",
     "text": [
      "/usr/local/lib/python3.8/site-packages/seaborn/_decorators.py:36: FutureWarning: Pass the following variables as keyword args: x, y. From version 0.12, the only valid positional argument will be `data`, and passing other arguments without an explicit keyword will result in an error or misinterpretation.\n",
      "  warnings.warn(\n"
     ]
    },
    {
     "data": {
      "text/plain": [
       "Text(0.5, 1.0, 'Clustering con datos reducidos')"
      ]
     },
     "execution_count": 34,
     "metadata": {},
     "output_type": "execute_result"
    },
    {
     "data": {
      "image/png": "[encoded data removed]",
      "text/plain": [
       "<Figure size 432x288 with 1 Axes>"
      ]
     },
     "metadata": {
      "needs_background": "light"
     },
     "output_type": "display_data"
    }
   ],
   "source": [
    "## Obtener modelo y predicciones con la función creada\n",
    "kmeans, yPredictPCA, palette = clustering_kmeans(2, dataPCA)\n",
    "\n",
    "## Asignación de clases\n",
    "class_corr = [[0, 1], ['OTHER', 'DOM']]\n",
    "classesTag = ['DOM' if i == class_corr[0][0] else 'OTHER' if i == class_corr[0][1] else i for i in yPredictPCA]\n",
    "classesTag = np.array(classesTag)\n",
    "\n",
    "palette = sns.color_palette(\"Set2\", 2)\n",
    "sns.scatterplot(dataPCA[:,0], dataPCA[:,1], hue = classesTag, legend = 'full', palette = palette)\n",
    "plt.title('Clustering con datos reducidos', size=15)"
   ]
  },
  {
   "cell_type": "code",
   "execution_count": 35,
   "metadata": {},
   "outputs": [
    {
     "data": {
      "text/html": [
       "<div>\n",
       "<style scoped>\n",
       "    .dataframe tbody tr th:only-of-type {\n",
       "        vertical-align: middle;\n",
       "    }\n",
       "\n",
       "    .dataframe tbody tr th {\n",
       "        vertical-align: top;\n",
       "    }\n",
       "\n",
       "    .dataframe thead th {\n",
       "        text-align: right;\n",
       "    }\n",
       "</style>\n",
       "<table border=\"1\" class=\"dataframe\">\n",
       "  <thead>\n",
       "    <tr style=\"text-align: right;\">\n",
       "      <th>Pred</th>\n",
       "      <th>0</th>\n",
       "      <th>1</th>\n",
       "    </tr>\n",
       "    <tr>\n",
       "      <th>True</th>\n",
       "      <th></th>\n",
       "      <th></th>\n",
       "    </tr>\n",
       "  </thead>\n",
       "  <tbody>\n",
       "    <tr>\n",
       "      <th>0</th>\n",
       "      <td>222</td>\n",
       "      <td>106</td>\n",
       "    </tr>\n",
       "    <tr>\n",
       "      <th>1</th>\n",
       "      <td>542</td>\n",
       "      <td>1358</td>\n",
       "    </tr>\n",
       "  </tbody>\n",
       "</table>\n",
       "</div>"
      ],
      "text/plain": [
       "Pred    0     1\n",
       "True           \n",
       "0     222   106\n",
       "1     542  1358"
      ]
     },
     "execution_count": 35,
     "metadata": {},
     "output_type": "execute_result"
    }
   ],
   "source": [
    "## Matriz de confusión\n",
    "pd.crosstab(labels, yPredictPCA, dropna = False, rownames = ['True'], colnames = ['Pred'])"
   ]
  },
  {
   "cell_type": "markdown",
   "metadata": {},
   "source": [
    "## Evaluación con \"silhouette method\""
   ]
  },
  {
   "cell_type": "code",
   "execution_count": 36,
   "metadata": {},
   "outputs": [],
   "source": [
    "silhouettes = []\n",
    "\n",
    "## Ajustamos modelos desde k = 2 hasta k = 12\n",
    "for n in range(2, 12):\n",
    "    ## Ajustamos el modelo con el valor de k de cada iteracion\n",
    "    kmeans, yPredictPCA, palette = clustering_kmeans(n, dataPCA)\n",
    "    silhouette = silhouette_score(dataPCA, yPredictPCA)\n",
    "    silhouettes.append(silhouette)\n"
   ]
  },
  {
   "cell_type": "code",
   "execution_count": 37,
   "metadata": {},
   "outputs": [
    {
     "data": {
      "image/png": "[encoded data removed]",
      "text/plain": [
       "<Figure size 432x288 with 1 Axes>"
      ]
     },
     "metadata": {
      "needs_background": "light"
     },
     "output_type": "display_data"
    }
   ],
   "source": [
    "## Graficamos\n",
    "fig, ax = plt.subplots(1, 1)\n",
    "ax.plot(range(2, 12), silhouettes, marker = 'o')\n",
    "ax.set_title(\"Evolución de la silueta por numero de clusters \\nclustering K-means con datos reducidos\")\n",
    "ax.set_xlabel('Número de clusters')\n",
    "ax.set_ylabel('Silueta');"
   ]
  },
  {
   "cell_type": "markdown",
   "metadata": {},
   "source": [
    "# Clusterización por método Jerárquico"
   ]
  },
  {
   "cell_type": "code",
   "execution_count": 38,
   "metadata": {},
   "outputs": [],
   "source": [
    "## Creamos funcion que ajuste los modelos de forma automatica\n",
    "def hierarchical_clustering(data):\n",
    "    np.random.seed(42)\n",
    "    hierchclust = AgglomerativeClustering(affinity = 'euclidean', distance_threshold = 0, n_clusters = None)  # El parametro distance_threshold = 0 hace que se forme un cluster por observacion\n",
    "    \n",
    "    # Predecir las clases\n",
    "    y_predict = hierchclust.fit_predict(X = data)\n",
    "    \n",
    "    # Obtener el numero de clusters con el metodo .n_clusters_\n",
    "    nclust = hierchclust.n_clusters_ \n",
    "    \n",
    "    # Devolvemos el modelo, las predicciones y el numero de clusters\n",
    "    return(hierchclust, y_predict, nclust)"
   ]
  },
  {
   "cell_type": "code",
   "execution_count": 39,
   "metadata": {},
   "outputs": [],
   "source": [
    "## Funcion para crear un dendrograma\n",
    "def plot_dendrogram(model, **kwargs):\n",
    "    counts = np.zeros(model.children_.shape[0])\n",
    "    n_samples = len(model.labels_)\n",
    "    for i, merge in enumerate(model.children_):\n",
    "        current_count = 0\n",
    "        for child_idx in merge:\n",
    "            if child_idx < n_samples:\n",
    "                current_count += 1  # leaf node\n",
    "            else:\n",
    "                current_count += counts[child_idx - n_samples]\n",
    "        counts[i] = current_count\n",
    "\n",
    "    linkage_matrix = np.column_stack([model.children_, model.distances_,\n",
    "                                      counts]).astype(float)\n",
    "    # Plot\n",
    "    dendrogram(linkage_matrix, **kwargs)"
   ]
  },
  {
   "cell_type": "markdown",
   "metadata": {},
   "source": [
    "## Clustering con método Jerárquico de no datos reducidos "
   ]
  },
  {
   "cell_type": "code",
   "execution_count": 41,
   "metadata": {},
   "outputs": [
    {
     "name": "stdout",
     "output_type": "stream",
     "text": [
      "Número de clusters: 2228\n"
     ]
    }
   ],
   "source": [
    "## Clusterización de los datos por método Jerárquico\n",
    "\n",
    "hierchclust, y_predict, nclust = hierarchical_clustering(scaledSet)\n",
    "print(f'Número de clusters: {nclust}')"
   ]
  },
  {
   "cell_type": "code",
   "execution_count": 48,
   "metadata": {},
   "outputs": [
    {
     "data": {
      "text/plain": [
       "Text(0.5, 1.0, 'Clustering jerárquico con threshold 0 \\nde datos no reducidos')"
      ]
     },
     "execution_count": 48,
     "metadata": {},
     "output_type": "execute_result"
    },
    {
     "data": {
      "image/png": "[encoded data removed]",
      "text/plain": [
       "<Figure size 432x288 with 1 Axes>"
      ]
     },
     "metadata": {
      "needs_background": "light"
     },
     "output_type": "display_data"
    }
   ],
   "source": [
    "## Graficar\n",
    "# Especificiar el parametro color_threshold a 0, de este modo, cada observacion es un cluster\n",
    "\n",
    "fig, ax = plt.subplots(1, 1)\n",
    "plot_dendrogram(hierchclust, color_threshold = 0, ax = ax)\n",
    "ax.set_title(\"Clustering jerárquico con threshold 0 \\nde datos no reducidos\")"
   ]
  },
  {
   "cell_type": "code",
   "execution_count": 49,
   "metadata": {
    "scrolled": true
   },
   "outputs": [
    {
     "data": {
      "text/plain": [
       "Text(0.5, 1.0, 'Clustering jerárquico con threshold 14 \\nde datos no reducidos')"
      ]
     },
     "execution_count": 49,
     "metadata": {},
     "output_type": "execute_result"
    },
    {
     "data": {
      "image/png": "[encoded data removed]",
      "text/plain": [
       "<Figure size 432x288 with 1 Axes>"
      ]
     },
     "metadata": {
      "needs_background": "light"
     },
     "output_type": "display_data"
    }
   ],
   "source": [
    "fig, ax = plt.subplots(1, 1)\n",
    "plot_dendrogram(hierchclust, color_threshold = 14, ax = ax)\n",
    "ax.set_title(\"Clustering jerárquico con threshold 14 \\nde datos no reducidos\")"
   ]
  },
  {
   "cell_type": "markdown",
   "metadata": {},
   "source": [
    "## Clustering con método Jerárquico de datos reducidos "
   ]
  },
  {
   "cell_type": "code",
   "execution_count": 50,
   "metadata": {},
   "outputs": [
    {
     "name": "stdout",
     "output_type": "stream",
     "text": [
      "Número de clusters: 2228\n"
     ]
    }
   ],
   "source": [
    "## Clusterización de los datos por método Jerárquico\n",
    "\n",
    "hierchclust, y_predict, nclust = hierarchical_clustering(dataPCA)\n",
    "print(f'Número de clusters: {nclust}')"
   ]
  },
  {
   "cell_type": "code",
   "execution_count": 51,
   "metadata": {},
   "outputs": [
    {
     "data": {
      "text/plain": [
       "Text(0.5, 1.0, 'Clustering jerárquico con threshold 0 \\nde datos reducidos')"
      ]
     },
     "execution_count": 51,
     "metadata": {},
     "output_type": "execute_result"
    },
    {
     "data": {
      "image/png": "[encoded data removed]",
      "text/plain": [
       "<Figure size 432x288 with 1 Axes>"
      ]
     },
     "metadata": {
      "needs_background": "light"
     },
     "output_type": "display_data"
    }
   ],
   "source": [
    "## Graficar\n",
    "# Especificiar el parametro color_threshold a 0, de este modo, cada observacion es un cluster\n",
    "\n",
    "fig, ax = plt.subplots(1, 1)\n",
    "plot_dendrogram(hierchclust, color_threshold = 0, ax = ax)\n",
    "ax.set_title(\"Clustering jerárquico con threshold 0 \\nde datos reducidos\")"
   ]
  },
  {
   "cell_type": "code",
   "execution_count": 52,
   "metadata": {},
   "outputs": [
    {
     "data": {
      "text/plain": [
       "Text(0.5, 1.0, 'Clustering jerárquico con threshold 14 \\nde datos reducidos')"
      ]
     },
     "execution_count": 52,
     "metadata": {},
     "output_type": "execute_result"
    },
    {
     "data": {
      "image/png": "[encoded data removed]",
      "text/plain": [
       "<Figure size 432x288 with 1 Axes>"
      ]
     },
     "metadata": {
      "needs_background": "light"
     },
     "output_type": "display_data"
    }
   ],
   "source": [
    "fig, ax = plt.subplots(1, 1)\n",
    "plot_dendrogram(hierchclust, color_threshold = 14, ax = ax)\n",
    "ax.set_title(\"Clustering jerárquico con threshold 14 \\nde datos reducidos\")"
   ]
  }
 ],
 "metadata": {
  "kernelspec": {
   "display_name": "Python 3",
   "language": "python",
   "name": "python3"
  },
  "language_info": {
   "codemirror_mode": {
    "name": "ipython",
    "version": 3
   },
   "file_extension": ".py",
   "mimetype": "text/x-python",
   "name": "python",
   "nbconvert_exporter": "python",
   "pygments_lexer": "ipython3",
   "version": "3.7.9"
  }
 },
 "nbformat": 4,
 "nbformat_minor": 4
}
