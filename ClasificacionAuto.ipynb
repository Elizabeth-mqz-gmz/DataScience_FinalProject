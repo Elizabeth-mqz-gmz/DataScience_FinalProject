{
 "cells": [
  {
   "cell_type": "markdown",
   "metadata": {},
   "source": [
    "# Oraciones y clasificadores"
   ]
  },
  {
   "cell_type": "code",
   "execution_count": 33,
   "metadata": {},
   "outputs": [
    {
     "name": "stdout",
     "output_type": "stream",
     "text": [
      "Longitud datos de Entrenamiento\n",
      "1566 1566\n",
      "Longitud datos de Evaluación\n",
      "671 671\n"
     ]
    }
   ],
   "source": [
    "DataX = open(\"./trainData.txt\",\"r\")\n",
    "DataY = open(\"./trainClasses.txt\",\"r\")\n",
    "DatatestX = open(\"./testData.txt\",\"r\")\n",
    "DatatestY = open(\"./testClasses.txt\",\"r\")\n",
    "\n",
    "def splitFile(File,List):\n",
    "    for line in File:\n",
    "        line = line.replace(\"\\n\",\"\")\n",
    "        List.append(line)\n",
    "    \n",
    "\n",
    "#Convertimos cada línea de nuestros archivos (separado por \\n ) en una entrada de un vector\n",
    "trainX= []\n",
    "trainY= []\n",
    "testX = []\n",
    "testY = []\n",
    "\n",
    "# Generamos la lista de oraciones y clases\n",
    "splitFile(DataX,trainX)\n",
    "splitFile(DataY,trainY)\n",
    "splitFile(DatatestX,testX)\n",
    "splitFile(DatatestY,testY)\n",
    "\n",
    "# Cuantas oraciones y clases obtuvimos\n",
    "print(\"Longitud datos de Entrenamiento\")\n",
    "print(len(trainX),len(trainY))\n",
    "print(\"Longitud datos de Evaluación\")\n",
    "print(len(testX),len(testY))\n",
    "\n",
    "DataX.close()\n",
    "DataY.close()\n",
    "DatatestX.close()\n",
    "DatatestY.close()"
   ]
  },
  {
   "cell_type": "markdown",
   "metadata": {},
   "source": [
    "# Modelo de Bernoulli"
   ]
  },
  {
   "cell_type": "code",
   "execution_count": 53,
   "metadata": {},
   "outputs": [],
   "source": [
    "from sklearn.naive_bayes import BernoulliNB\n",
    "from sklearn.model_selection import train_test_split \n",
    "from sklearn.feature_extraction.text import CountVectorizer\n",
    "from sklearn.metrics import accuracy_score, precision_score, recall_score, f1_score, confusion_matrix,classification_report, make_scorer\n",
    "from sklearn.metrics import plot_confusion_matrix\n",
    "import pandas as pd\n",
    "import seaborn as sns\n",
    "import matplotlib.pyplot as plt\n",
    "from sklearn.manifold import TSNE"
   ]
  },
  {
   "cell_type": "code",
   "execution_count": 47,
   "metadata": {},
   "outputs": [],
   "source": [
    "#Creamos un Vectorizador\n",
    "vectorizer = CountVectorizer()\n",
    "#entrenamos nuestro vectorizador con nuestros datos de training \n",
    "#vectorizamos el test con el mismo vectorizador entrenado para que tengan las mismas dimensiones \n",
    "Xtrain = vectorizer.fit_transform(trainX)\n",
    "Xtest=vectorizer.transform(testX)\n",
    "#generamos nuestro clasificador\n",
    "clf = BernoulliNB()\n",
    "#entrenamos con nuestos modelo\n",
    "clf.fit(Xtrain, trainY)\n",
    "#predecimos nuestro dataset de test\n",
    "Ypred=clf.predict(Xtest)"
   ]
  },
  {
   "cell_type": "code",
   "execution_count": 48,
   "metadata": {},
   "outputs": [
    {
     "name": "stdout",
     "output_type": "stream",
     "text": [
      "Accuracy: 0.9180327868852459\n",
      "\n",
      "Precision: 0.9538106547722489\n",
      "\n",
      "Recall: 0.9180327868852459\n",
      "\n",
      "F-score: 0.928805637852358\n",
      "\n",
      "\n",
      "Confusion matrix: \n",
      "\n",
      "[[ 53   3]\n",
      " [ 52 563]]\n",
      "\n",
      "Classification report: \n",
      "\n",
      "              precision    recall  f1-score   support\n",
      "\n",
      "         DOM       0.50      0.95      0.66        56\n",
      "       OTHER       0.99      0.92      0.95       615\n",
      "\n",
      "    accuracy                           0.92       671\n",
      "   macro avg       0.75      0.93      0.81       671\n",
      "weighted avg       0.95      0.92      0.93       671\n",
      "\n",
      "\n"
     ]
    }
   ],
   "source": [
    "print('Accuracy: {}\\n'.format(accuracy_score(Ypred,testY)))\n",
    "print('Precision: {}\\n'.format(precision_score(Ypred,testY, average='weighted')))\n",
    "print('Recall: {}\\n'.format(recall_score(Ypred,testY, average='weighted')))\n",
    "print('F-score: {}\\n'.format(f1_score(Ypred,testY, average='weighted')))\n",
    "print('\\nConfusion matrix: \\n')\n",
    "print(str(confusion_matrix(Ypred,testY)) + '\\n')\n",
    "print('Classification report: \\n')\n",
    "print(classification_report(Ypred,testY) + '\\n')"
   ]
  },
  {
   "cell_type": "code",
   "execution_count": 49,
   "metadata": {},
   "outputs": [
    {
     "data": {
      "text/plain": [
       "{'alpha': 1.0, 'binarize': 0.0, 'class_prior': None, 'fit_prior': True}"
      ]
     },
     "execution_count": 49,
     "metadata": {},
     "output_type": "execute_result"
    }
   ],
   "source": [
    "clf.get_params()"
   ]
  },
  {
   "cell_type": "code",
   "execution_count": 51,
   "metadata": {},
   "outputs": [
    {
     "name": "stdout",
     "output_type": "stream",
     "text": [
      "[[ 53  52]\n",
      " [  3 563]]\n"
     ]
    },
    {
     "data": {
      "text/plain": [
       "<sklearn.metrics._plot.confusion_matrix.ConfusionMatrixDisplay at 0x7f859eb86f60>"
      ]
     },
     "execution_count": 51,
     "metadata": {},
     "output_type": "execute_result"
    },
    {
     "data": {
      "image/png": "[encoded data removed]",
      "text/plain": [
       "<Figure size 432x288 with 2 Axes>"
      ]
     },
     "metadata": {},
     "output_type": "display_data"
    }
   ],
   "source": [
    "# Matriz de confusion para DOM y Other\n",
    "print(confusion_matrix(testY, Ypred))\n",
    "Bern = plot_confusion_matrix(clf, Xtest, testY, cmap=plt.cm.Blues, \n",
    "                      display_labels=[\"DOM\",\"OTHER\"])\n",
    "Bern.ax_.set_title(\"Bernoulli\")\n",
    "Bern"
   ]
  },
  {
   "cell_type": "code",
   "execution_count": 56,
   "metadata": {},
   "outputs": [
    {
     "data": {
      "text/plain": [
       "<matplotlib.axes._subplots.AxesSubplot at 0x7f858b036048>"
      ]
     },
     "execution_count": 56,
     "metadata": {},
     "output_type": "execute_result"
    },
    {
     "data": {
      "image/png": "[encoded data removed]",
      "text/plain": [
       "<Figure size 432x288 with 1 Axes>"
      ]
     },
     "metadata": {},
     "output_type": "display_data"
    }
   ],
   "source": [
    "# podemos ver como se encuentran distribuidos los elementos de nuestro set de datos\n",
    "X_test_embedded = TSNE(n_components=3).fit_transform(Xtest)\n",
    "plt.figure()\n",
    "tsne_result_df = pd.DataFrame({'tsne_1': X_test_embedded[:,0], 'tsne_2': X_test_embedded[:,1], 'label': testY})\n",
    "sns.scatterplot(x='tsne_1', y='tsne_2', hue='label', data=tsne_result_df)"
   ]
  },
  {
   "cell_type": "markdown",
   "metadata": {},
   "source": [
    "# GridSearchCV"
   ]
  },
  {
   "cell_type": "code",
   "execution_count": 57,
   "metadata": {},
   "outputs": [
    {
     "name": "stdout",
     "output_type": "stream",
     "text": [
      "Fitting 5 folds for each of 100 candidates, totalling 500 fits\n"
     ]
    },
    {
     "name": "stderr",
     "output_type": "stream",
     "text": [
      "[Parallel(n_jobs=-1)]: Using backend LokyBackend with 16 concurrent workers.\n",
      "[Parallel(n_jobs=-1)]: Done   9 tasks      | elapsed:    0.9s\n",
      "[Parallel(n_jobs=-1)]: Done  18 tasks      | elapsed:    1.0s\n",
      "[Parallel(n_jobs=-1)]: Done  29 tasks      | elapsed:    1.1s\n",
      "[Parallel(n_jobs=-1)]: Done  40 tasks      | elapsed:    1.2s\n",
      "[Parallel(n_jobs=-1)]: Done  53 tasks      | elapsed:    1.3s\n",
      "[Parallel(n_jobs=-1)]: Done  66 tasks      | elapsed:    1.5s\n",
      "[Parallel(n_jobs=-1)]: Done  81 tasks      | elapsed:    1.7s\n",
      "[Parallel(n_jobs=-1)]: Done  96 tasks      | elapsed:    1.9s\n",
      "[Parallel(n_jobs=-1)]: Done 113 tasks      | elapsed:    2.2s\n",
      "[Parallel(n_jobs=-1)]: Done 130 tasks      | elapsed:    2.6s\n",
      "[Parallel(n_jobs=-1)]: Done 149 tasks      | elapsed:    3.1s\n",
      "[Parallel(n_jobs=-1)]: Done 168 tasks      | elapsed:    3.5s\n",
      "[Parallel(n_jobs=-1)]: Done 189 tasks      | elapsed:    4.0s\n",
      "[Parallel(n_jobs=-1)]: Done 210 tasks      | elapsed:    4.6s\n",
      "[Parallel(n_jobs=-1)]: Done 233 tasks      | elapsed:    5.1s\n",
      "[Parallel(n_jobs=-1)]: Done 256 tasks      | elapsed:    5.6s\n",
      "[Parallel(n_jobs=-1)]: Done 281 tasks      | elapsed:    6.3s\n",
      "[Parallel(n_jobs=-1)]: Done 306 tasks      | elapsed:    6.9s\n",
      "[Parallel(n_jobs=-1)]: Done 333 tasks      | elapsed:    7.6s\n",
      "[Parallel(n_jobs=-1)]: Done 360 tasks      | elapsed:    8.2s\n",
      "[Parallel(n_jobs=-1)]: Done 389 tasks      | elapsed:    8.9s\n",
      "[Parallel(n_jobs=-1)]: Done 418 tasks      | elapsed:    9.5s\n",
      "[Parallel(n_jobs=-1)]: Done 449 tasks      | elapsed:   10.1s\n",
      "[Parallel(n_jobs=-1)]: Done 500 out of 500 | elapsed:   11.1s finished\n"
     ]
    }
   ],
   "source": [
    "from sklearn.model_selection import GridSearchCV\n",
    "jobs = -1\n",
    "crossV = 5\n",
    "alpha=[]\n",
    "#generamos 100 numeros del 0-1 para utilizar como alphas\n",
    "for i in range(100):\n",
    "    alpha.append(i/100) \n",
    "parameters = {'alpha' : alpha}\n",
    "#generamos nuestro clasificador\n",
    "Bernoulli = BernoulliNB()\n",
    "#generamos nuestro objeto GridSearchCV con nuestro clasificador, verbouse es el numero de mensajes que imprime\n",
    "clf_1 = GridSearchCV(Bernoulli, parameters,cv=crossV, n_jobs=jobs, verbose=10)\n",
    "#entrenamos nuestro modelo\n",
    "clf_1.fit(Xtrain, trainY)\n",
    "#predecimos\n",
    "Ypred=clf_1.predict(Xtest)"
   ]
  },
  {
   "cell_type": "code",
   "execution_count": 59,
   "metadata": {},
   "outputs": [
    {
     "name": "stdout",
     "output_type": "stream",
     "text": [
      "Accuracy: 0.9225037257824144\n",
      "\n",
      "Precision: 0.9442278395878582\n",
      "\n",
      "Recall: 0.9225037257824144\n",
      "\n",
      "F-score: 0.9293262898387687\n",
      "\n",
      "\n",
      "Confusion matrix: \n",
      "\n",
      "[[ 61   8]\n",
      " [ 44 558]]\n",
      "\n",
      "Classification report: \n",
      "\n",
      "              precision    recall  f1-score   support\n",
      "\n",
      "         DOM       0.58      0.88      0.70        69\n",
      "       OTHER       0.99      0.93      0.96       602\n",
      "\n",
      "    accuracy                           0.92       671\n",
      "   macro avg       0.78      0.91      0.83       671\n",
      "weighted avg       0.94      0.92      0.93       671\n",
      "\n",
      "\n",
      "\talpha: 0.79\n",
      "\n",
      "\tbinarize: 0.0\n",
      "\n",
      "\tclass_prior: None\n",
      "\n",
      "\tfit_prior: True\n",
      "\n"
     ]
    }
   ],
   "source": [
    "print('Accuracy: {}\\n'.format(accuracy_score(Ypred,testY)))\n",
    "print('Precision: {}\\n'.format(precision_score(Ypred,testY, average='weighted')))\n",
    "print('Recall: {}\\n'.format(recall_score(Ypred,testY, average='weighted')))\n",
    "print('F-score: {}\\n'.format(f1_score(Ypred,testY, average='weighted')))\n",
    "print('\\nConfusion matrix: \\n')\n",
    "print(str(confusion_matrix(Ypred,testY)) + '\\n')\n",
    "print('Classification report: \\n')\n",
    "print(classification_report(Ypred,testY) + '\\n')\n",
    "#obtenemos los mejores parametros\n",
    "best_parameters = clf_1.best_estimator_.get_params()\n",
    "for params in sorted(best_parameters.keys()):\n",
    "  print(\"\\t%s: %r\\n\" % (params, best_parameters[params]))"
   ]
  },
  {
   "cell_type": "code",
   "execution_count": 60,
   "metadata": {},
   "outputs": [
    {
     "name": "stdout",
     "output_type": "stream",
     "text": [
      "[[ 61  44]\n",
      " [  8 558]]\n"
     ]
    },
    {
     "data": {
      "text/plain": [
       "<sklearn.metrics._plot.confusion_matrix.ConfusionMatrixDisplay at 0x7f8596248940>"
      ]
     },
     "execution_count": 60,
     "metadata": {},
     "output_type": "execute_result"
    },
    {
     "data": {
      "image/png": "[encoded data removed]",
      "text/plain": [
       "<Figure size 432x288 with 2 Axes>"
      ]
     },
     "metadata": {},
     "output_type": "display_data"
    }
   ],
   "source": [
    "# Matriz de confusion para DOM y Other\n",
    "print(confusion_matrix(testY, Ypred))\n",
    "Grid = plot_confusion_matrix(clf_1, Xtest, testY, cmap=plt.cm.Blues, \n",
    "                      display_labels=[\"DOM\",\"OTHER\"])\n",
    "Grid.ax_.set_title(\"GridSearch\")\n",
    "Grid"
   ]
  },
  {
   "cell_type": "code",
   "execution_count": 61,
   "metadata": {},
   "outputs": [
    {
     "data": {
      "text/plain": [
       "<matplotlib.axes._subplots.AxesSubplot at 0x7f85d2f900b8>"
      ]
     },
     "execution_count": 61,
     "metadata": {},
     "output_type": "execute_result"
    },
    {
     "data": {
      "image/png": "[encoded data removed]",
      "text/plain": [
       "<Figure size 432x288 with 1 Axes>"
      ]
     },
     "metadata": {},
     "output_type": "display_data"
    }
   ],
   "source": [
    "# podemos ver como se encuentran distribuidos los elementos de nuestro set de datos\n",
    "X_test_embedded = TSNE(n_components=3).fit_transform(Xtest)\n",
    "plt.figure()\n",
    "tsne_result_df = pd.DataFrame({'tsne_1': X_test_embedded[:,0], 'tsne_2': X_test_embedded[:,1], 'label': testY})\n",
    "sns.scatterplot(x='tsne_1', y='tsne_2', hue='label', data=tsne_result_df)"
   ]
  },
  {
   "cell_type": "markdown",
   "metadata": {},
   "source": [
    "# RandomizedSearchCV"
   ]
  },
  {
   "cell_type": "code",
   "execution_count": 62,
   "metadata": {},
   "outputs": [
    {
     "name": "stdout",
     "output_type": "stream",
     "text": [
      "Fitting 5 folds for each of 100 candidates, totalling 500 fits\n"
     ]
    },
    {
     "name": "stderr",
     "output_type": "stream",
     "text": [
      "[Parallel(n_jobs=-1)]: Using backend LokyBackend with 16 concurrent workers.\n",
      "[Parallel(n_jobs=-1)]: Done   9 tasks      | elapsed:    1.0s\n",
      "[Parallel(n_jobs=-1)]: Done  18 tasks      | elapsed:    1.1s\n",
      "[Parallel(n_jobs=-1)]: Done  29 tasks      | elapsed:    1.2s\n",
      "[Parallel(n_jobs=-1)]: Done  40 tasks      | elapsed:    1.3s\n",
      "[Parallel(n_jobs=-1)]: Done  53 tasks      | elapsed:    1.4s\n",
      "[Parallel(n_jobs=-1)]: Done  66 tasks      | elapsed:    1.6s\n",
      "[Parallel(n_jobs=-1)]: Done  81 tasks      | elapsed:    1.8s\n",
      "[Parallel(n_jobs=-1)]: Done  96 tasks      | elapsed:    2.0s\n",
      "[Parallel(n_jobs=-1)]: Done 113 tasks      | elapsed:    2.2s\n",
      "[Parallel(n_jobs=-1)]: Done 130 tasks      | elapsed:    2.4s\n",
      "[Parallel(n_jobs=-1)]: Done 149 tasks      | elapsed:    2.6s\n",
      "[Parallel(n_jobs=-1)]: Done 168 tasks      | elapsed:    2.9s\n",
      "[Parallel(n_jobs=-1)]: Done 189 tasks      | elapsed:    3.1s\n",
      "[Parallel(n_jobs=-1)]: Done 210 tasks      | elapsed:    3.4s\n",
      "[Parallel(n_jobs=-1)]: Done 233 tasks      | elapsed:    3.7s\n",
      "[Parallel(n_jobs=-1)]: Done 256 tasks      | elapsed:    4.0s\n",
      "[Parallel(n_jobs=-1)]: Done 281 tasks      | elapsed:    4.3s\n",
      "[Parallel(n_jobs=-1)]: Done 306 tasks      | elapsed:    4.6s\n",
      "[Parallel(n_jobs=-1)]: Done 333 tasks      | elapsed:    4.9s\n",
      "[Parallel(n_jobs=-1)]: Done 360 tasks      | elapsed:    5.5s\n",
      "[Parallel(n_jobs=-1)]: Done 389 tasks      | elapsed:    6.1s\n",
      "[Parallel(n_jobs=-1)]: Done 418 tasks      | elapsed:    6.6s\n",
      "[Parallel(n_jobs=-1)]: Done 449 tasks      | elapsed:    7.1s\n",
      "[Parallel(n_jobs=-1)]: Done 500 out of 500 | elapsed:    7.8s finished\n"
     ]
    }
   ],
   "source": [
    "from sklearn.model_selection import RandomizedSearchCV\n",
    "import scipy\n",
    "nIter = 100\n",
    "#generamos una distribucion exponencial para nuestra alpha\n",
    "paramGrid = {'alpha': scipy.stats.expon(scale=1.0)}\n",
    "#generamos nuestro clasificador\n",
    "Bernoulli = BernoulliNB()\n",
    "#Generamos nuestro objeto GridSearchCV\n",
    "clf_2 = RandomizedSearchCV(Bernoulli, paramGrid,n_iter=nIter,cv=crossV, n_jobs=jobs, verbose=10)\n",
    "#entrenamos el modelo\n",
    "clf_2.fit(Xtrain, trainY)\n",
    "#Predecimos\n",
    "Ypred=clf_2.predict(Xtest)"
   ]
  },
  {
   "cell_type": "code",
   "execution_count": 63,
   "metadata": {},
   "outputs": [
    {
     "name": "stdout",
     "output_type": "stream",
     "text": [
      "Accuracy: 0.9225037257824144\n",
      "\n",
      "Precision: 0.9442278395878582\n",
      "\n",
      "Recall: 0.9225037257824144\n",
      "\n",
      "F-score: 0.9293262898387687\n",
      "\n",
      "\n",
      "Confusion matrix: \n",
      "\n",
      "[[ 61   8]\n",
      " [ 44 558]]\n",
      "\n",
      "Classification report: \n",
      "\n",
      "              precision    recall  f1-score   support\n",
      "\n",
      "         DOM       0.58      0.88      0.70        69\n",
      "       OTHER       0.99      0.93      0.96       602\n",
      "\n",
      "    accuracy                           0.92       671\n",
      "   macro avg       0.78      0.91      0.83       671\n",
      "weighted avg       0.94      0.92      0.93       671\n",
      "\n",
      "\n",
      "\talpha: 0.7907598911410253\n",
      "\n",
      "\tbinarize: 0.0\n",
      "\n",
      "\tclass_prior: None\n",
      "\n",
      "\tfit_prior: True\n",
      "\n"
     ]
    }
   ],
   "source": [
    "print('Accuracy: {}\\n'.format(accuracy_score(Ypred,testY)))\n",
    "print('Precision: {}\\n'.format(precision_score(Ypred,testY, average='weighted')))\n",
    "print('Recall: {}\\n'.format(recall_score(Ypred,testY, average='weighted')))\n",
    "print('F-score: {}\\n'.format(f1_score(Ypred,testY, average='weighted')))\n",
    "print('\\nConfusion matrix: \\n')\n",
    "print(str(confusion_matrix(Ypred,testY)) + '\\n')\n",
    "print('Classification report: \\n')\n",
    "print(classification_report(Ypred,testY) + '\\n')\n",
    "best_parameters = clf_2.best_estimator_.get_params()\n",
    "for params in sorted(best_parameters.keys()):\n",
    "    print(\"\\t%s: %r\\n\" % (params, best_parameters[params]))"
   ]
  },
  {
   "cell_type": "code",
   "execution_count": 64,
   "metadata": {},
   "outputs": [
    {
     "name": "stdout",
     "output_type": "stream",
     "text": [
      "[[ 61  44]\n",
      " [  8 558]]\n"
     ]
    },
    {
     "data": {
      "text/plain": [
       "<sklearn.metrics._plot.confusion_matrix.ConfusionMatrixDisplay at 0x7f85d2ff6b38>"
      ]
     },
     "execution_count": 64,
     "metadata": {},
     "output_type": "execute_result"
    },
    {
     "data": {
      "image/png": "[encoded data removed]",
      "text/plain": [
       "<Figure size 432x288 with 2 Axes>"
      ]
     },
     "metadata": {},
     "output_type": "display_data"
    }
   ],
   "source": [
    "# Matriz de confusion para DOM y Other\n",
    "print(confusion_matrix(testY, Ypred))\n",
    "Rand = plot_confusion_matrix(clf_2, Xtest, testY, cmap=plt.cm.Blues, \n",
    "                      display_labels=[\"DOM\",\"OTHER\"])\n",
    "Rand.ax_.set_title(\"RabdomizedSearch\")\n",
    "Rand"
   ]
  },
  {
   "cell_type": "code",
   "execution_count": 65,
   "metadata": {},
   "outputs": [
    {
     "data": {
      "text/plain": [
       "<matplotlib.axes._subplots.AxesSubplot at 0x7f85d2f72dd8>"
      ]
     },
     "execution_count": 65,
     "metadata": {},
     "output_type": "execute_result"
    },
    {
     "data": {
      "image/png": "[encoded data removed]",
      "text/plain": [
       "<Figure size 432x288 with 1 Axes>"
      ]
     },
     "metadata": {},
     "output_type": "display_data"
    }
   ],
   "source": [
    "# podemos ver como se encuentran distribuidos los elementos de nuestro set de datos\n",
    "X_test_embedded = TSNE(n_components=3).fit_transform(Xtest)\n",
    "plt.figure()\n",
    "tsne_result_df = pd.DataFrame({'tsne_1': X_test_embedded[:,0], 'tsne_2': X_test_embedded[:,1], 'label': testY})\n",
    "sns.scatterplot(x='tsne_1', y='tsne_2', hue='label', data=tsne_result_df)"
   ]
  },
  {
   "cell_type": "markdown",
   "metadata": {},
   "source": [
    "# Lematización"
   ]
  },
  {
   "cell_type": "markdown",
   "metadata": {},
   "source": [
    "## Generación de archivo con CoreNLP"
   ]
  },
  {
   "cell_type": "code",
   "execution_count": 15,
   "metadata": {},
   "outputs": [],
   "source": [
    "#%%bash\n",
    "# Tepeu\n",
    "#java -Xmx2g edu.stanford.nlp.pipeline.StanfordCoreNLP -annotators tokenize,ssplit,pos,lemma -outputFormat conll -file trainData.txt"
   ]
  },
  {
   "cell_type": "code",
   "execution_count": 16,
   "metadata": {},
   "outputs": [
    {
     "name": "stdout",
     "output_type": "stream",
     "text": [
      "1\tPgrR\tpgrr\tNN\t_\t_\t_\n",
      "2\t,\t,\t,\t_\t_\t_\n",
      "3\tPeptide\tpeptide\tNN\t_\t_\t_\n",
      "4\tglycan\tglycan\tNN\t_\t_\t_\n",
      "5\trecycling\trecycle\tVBG\t_\t_\t_\n",
      "6\tRegulator\tRegulator\tNNP\t_\t_\t_\n",
      "7\t.\t.\t.\t_\t_\t_\n",
      "\n",
      "1\tThe\tthe\tDT\t_\t_\t_\n",
      "2\ttranscriptional\ttranscriptional\tJJ\t_\t_\t_\n"
     ]
    }
   ],
   "source": [
    "%%bash\n",
    "head trainData.txt.conll"
   ]
  },
  {
   "cell_type": "markdown",
   "metadata": {},
   "source": [
    "## Longitud de los set de datos"
   ]
  },
  {
   "cell_type": "markdown",
   "metadata": {},
   "source": [
    "Como CoreNLP regresa un archivo de oraciones en bloques, las dimensiones del archivo son muy diferentes a las de las oraciones. Por este motivo tenemos que transformar los archivos de CoreNLP en oraciones."
   ]
  },
  {
   "cell_type": "code",
   "execution_count": 66,
   "metadata": {},
   "outputs": [],
   "source": [
    "# Funcion para generar oraciones lematizadas\n",
    "def generateLemma(LemmaFile):\n",
    "    sentences = []\n",
    "    sentence = \"\"\n",
    "    for line in LemmaFile:\n",
    "        if line == \"\\n\":\n",
    "            continue\n",
    "        line = line.split(\"\\t\")\n",
    "        if line[2] != \".\":\n",
    "            sentence = sentence + line[2] + \" \"\n",
    "            continue\n",
    "        if line[2] == \".\":\n",
    "            sentence = sentence + \".\"\n",
    "            sentences.append(sentence)\n",
    "            sentence = \"\"\n",
    "            continue\n",
    "            \n",
    "    return sentences\n",
    "\n",
    "# Función para generar las oraciones originales de entrada\n",
    "def originalFile(LemmaFile):\n",
    "    sentences = []\n",
    "    sentence = \"\"\n",
    "    for line in LemmaFile:\n",
    "        if line == \"\\n\":\n",
    "            continue\n",
    "        line = line.split(\"\\t\")\n",
    "        if line[1] != \".\":\n",
    "            sentence = sentence + line[1] + \" \"\n",
    "            continue\n",
    "        if line[1] == \".\":\n",
    "            sentence = sentence + \".\"\n",
    "            sentences.append(sentence)\n",
    "            sentence = \"\"\n",
    "            continue\n",
    "            \n",
    "    return sentences\n",
    "        "
   ]
  },
  {
   "cell_type": "markdown",
   "metadata": {},
   "source": [
    "Comparamos tamaños de cada lista de oraciones que generamos.\n",
    "Como podemos observar se perdieron 2 entradas al utilizar CoreNLP, por lo que tendremos que ajustar nuestros datos."
   ]
  },
  {
   "cell_type": "code",
   "execution_count": 67,
   "metadata": {},
   "outputs": [
    {
     "name": "stdout",
     "output_type": "stream",
     "text": [
      "1564\n"
     ]
    }
   ],
   "source": [
    "# Generar lista de oraciones lematizadas\n",
    "DataSetLemma = open(\"trainData.txt.conll\",\"r\")\n",
    "\n",
    "DataLemma = generateLemma(DataSetLemma)\n",
    "print(len(DataLemma))\n"
   ]
  },
  {
   "cell_type": "code",
   "execution_count": 68,
   "metadata": {},
   "outputs": [
    {
     "name": "stdout",
     "output_type": "stream",
     "text": [
      "1564\n"
     ]
    }
   ],
   "source": [
    "# Generar lista de oraciones originales de entrada\n",
    "DataSetLemma2 = open(\"trainData.txt.conll\",\"r\")\n",
    "OriginalFile = originalFile(DataSetLemma2)\n",
    "\n",
    "print(len(OriginalFile))"
   ]
  },
  {
   "cell_type": "markdown",
   "metadata": {},
   "source": [
    "Observamos cuantos elementos unicos hay en los conjuntos de entrada y asociación."
   ]
  },
  {
   "cell_type": "code",
   "execution_count": 69,
   "metadata": {},
   "outputs": [
    {
     "name": "stdout",
     "output_type": "stream",
     "text": [
      "1507\n"
     ]
    }
   ],
   "source": [
    "print(len(set(DataSetX)))"
   ]
  },
  {
   "cell_type": "code",
   "execution_count": 70,
   "metadata": {},
   "outputs": [
    {
     "name": "stdout",
     "output_type": "stream",
     "text": [
      "1505\n"
     ]
    }
   ],
   "source": [
    "print(len(set(OriginalFile)))"
   ]
  },
  {
   "cell_type": "code",
   "execution_count": 71,
   "metadata": {},
   "outputs": [
    {
     "name": "stdout",
     "output_type": "stream",
     "text": [
      "1502\n"
     ]
    }
   ],
   "source": [
    "print(len(set(DataLemma)))"
   ]
  },
  {
   "cell_type": "markdown",
   "metadata": {},
   "source": [
    "Generamos una asociación entre las oraciones originales y su categoria."
   ]
  },
  {
   "cell_type": "code",
   "execution_count": 72,
   "metadata": {},
   "outputs": [
    {
     "data": {
      "text/plain": [
       "1566"
      ]
     },
     "execution_count": 72,
     "metadata": {},
     "output_type": "execute_result"
    }
   ],
   "source": [
    "# Hacer lista de tuplas entre oración y categoria\n",
    "dataValues = []\n",
    "DataSetLemma2 = open(\"trainData.txt.conll\",\"r\")\n",
    "contador = 0\n",
    "for element in DataSetX:\n",
    "    Value = (element,DataSetY[contador])\n",
    "    dataValues.append(Value)\n",
    "    contador = contador + 1\n",
    "    \n",
    "len(dataValues)"
   ]
  },
  {
   "cell_type": "markdown",
   "metadata": {},
   "source": [
    "Ahora veremos que entradas podemos recuperar del archivo original, para poder igualar las longitudes con la cantidad de oraciones de los archivos lematizados."
   ]
  },
  {
   "cell_type": "code",
   "execution_count": 73,
   "metadata": {},
   "outputs": [
    {
     "data": {
      "text/plain": [
       "1305"
      ]
     },
     "execution_count": 73,
     "metadata": {},
     "output_type": "execute_result"
    }
   ],
   "source": [
    "# Encontrar oraciones del primer archivo en las oraciones originales que regreso CoreNLP\n",
    "LemmaDataX = []\n",
    "for sentence1 in DataSetX:\n",
    "    if sentence1 not in OriginalFile:\n",
    "        continue\n",
    "    LemmaDataX.append(sentence1)\n",
    "    \n",
    "len(LemmaDataX)"
   ]
  },
  {
   "cell_type": "markdown",
   "metadata": {},
   "source": [
    "Ahora debemos asociar las categorias con estos 1305 resultados encontrados al intersectar el archivo de CoreNLP con el original."
   ]
  },
  {
   "cell_type": "code",
   "execution_count": 74,
   "metadata": {},
   "outputs": [
    {
     "name": "stdout",
     "output_type": "stream",
     "text": [
      "1305\n"
     ]
    }
   ],
   "source": [
    "LemmaDataY = []\n",
    "for element in LemmaDataX:\n",
    "    for values in dataValues:\n",
    "        if element == values[0]:\n",
    "            LemmaDataY.append(values[1])\n",
    "            break\n",
    "print(len(LemmaDataY))"
   ]
  },
  {
   "cell_type": "markdown",
   "metadata": {},
   "source": [
    "Ahora se debera generar una lista de tupplas que asocie las oraciones de los datos de entrada iniciales caputrados por CoreNLP y los lematizados"
   ]
  },
  {
   "cell_type": "code",
   "execution_count": 75,
   "metadata": {},
   "outputs": [
    {
     "data": {
      "text/plain": [
       "1564"
      ]
     },
     "execution_count": 75,
     "metadata": {},
     "output_type": "execute_result"
    }
   ],
   "source": [
    "LemmaValues = []\n",
    "contador = 0\n",
    "# generar lista de tupplas para asociar originales con lematizados\n",
    "for element in DataLemma:\n",
    "    Value = (OriginalFile[contador],element)\n",
    "    LemmaValues.append(Value)\n",
    "    contador = contador + 1\n",
    "\n",
    "    \n",
    "len(LemmaValues)"
   ]
  },
  {
   "cell_type": "markdown",
   "metadata": {},
   "source": [
    "Finalmente obtenemos las oraciones lematizadas que CoreNLP capturo, de modo que tenemos las oraciones lematizadas y las categorias."
   ]
  },
  {
   "cell_type": "code",
   "execution_count": 76,
   "metadata": {},
   "outputs": [
    {
     "name": "stdout",
     "output_type": "stream",
     "text": [
      "1305\n"
     ]
    }
   ],
   "source": [
    "LemmaX = []\n",
    "\n",
    "for values in LemmaValues:\n",
    "    for element in LemmaDataX:\n",
    "        if element == values[0]:\n",
    "            LemmaX.append(values[1])\n",
    "            break\n",
    "        \n",
    "print(len(LemmaX))"
   ]
  },
  {
   "cell_type": "markdown",
   "metadata": {},
   "source": [
    "Con los datos obtenidos con anterioridad finalmente generamos el modelo predictivo."
   ]
  },
  {
   "cell_type": "code",
   "execution_count": 77,
   "metadata": {},
   "outputs": [],
   "source": [
    "trainX = LemmaX\n",
    "trainY = LemmaDataY\n",
    "\n",
    "#como ya no son las mismas oraciones volvemos a entrenar al vectorizador\n",
    "vectorizer = CountVectorizer()\n",
    "XLemma = vectorizer.fit_transform(trainX)\n",
    "Xtest=vectorizer.transform(testX)"
   ]
  },
  {
   "cell_type": "code",
   "execution_count": 78,
   "metadata": {},
   "outputs": [
    {
     "name": "stdout",
     "output_type": "stream",
     "text": [
      "Fitting 5 folds for each of 100 candidates, totalling 500 fits\n"
     ]
    },
    {
     "name": "stderr",
     "output_type": "stream",
     "text": [
      "[Parallel(n_jobs=-1)]: Using backend LokyBackend with 16 concurrent workers.\n",
      "[Parallel(n_jobs=-1)]: Batch computation too fast (0.0583s.) Setting batch_size=2.\n",
      "[Parallel(n_jobs=-1)]: Done   9 tasks      | elapsed:    0.3s\n",
      "[Parallel(n_jobs=-1)]: Done  18 tasks      | elapsed:    0.5s\n",
      "[Parallel(n_jobs=-1)]: Done  29 tasks      | elapsed:    0.7s\n",
      "[Parallel(n_jobs=-1)]: Done  48 tasks      | elapsed:    0.9s\n",
      "[Parallel(n_jobs=-1)]: Done  74 tasks      | elapsed:    1.3s\n",
      "[Parallel(n_jobs=-1)]: Done 100 tasks      | elapsed:    1.5s\n",
      "[Parallel(n_jobs=-1)]: Done 130 tasks      | elapsed:    1.8s\n",
      "[Parallel(n_jobs=-1)]: Done 160 tasks      | elapsed:    2.1s\n",
      "[Parallel(n_jobs=-1)]: Done 194 tasks      | elapsed:    2.4s\n",
      "[Parallel(n_jobs=-1)]: Done 228 tasks      | elapsed:    2.7s\n",
      "[Parallel(n_jobs=-1)]: Done 266 tasks      | elapsed:    2.9s\n",
      "[Parallel(n_jobs=-1)]: Done 304 tasks      | elapsed:    3.3s\n",
      "[Parallel(n_jobs=-1)]: Done 346 tasks      | elapsed:    3.8s\n",
      "[Parallel(n_jobs=-1)]: Done 388 tasks      | elapsed:    4.3s\n",
      "[Parallel(n_jobs=-1)]: Done 434 tasks      | elapsed:    4.7s\n",
      "[Parallel(n_jobs=-1)]: Done 500 out of 500 | elapsed:    5.4s finished\n"
     ]
    }
   ],
   "source": [
    "paramGrid = {'alpha': scipy.stats.expon(scale=1.0)}\n",
    "Bernoulli = BernoulliNB()\n",
    "clf_3 = RandomizedSearchCV(Bernoulli, paramGrid,n_iter=nIter,cv=crossV, n_jobs=jobs, verbose=10)\n",
    "clf_3.fit(XLemma, trainY)\n",
    "Ypred=clf_3.predict(Xtest)"
   ]
  },
  {
   "cell_type": "code",
   "execution_count": 79,
   "metadata": {},
   "outputs": [
    {
     "name": "stdout",
     "output_type": "stream",
     "text": [
      "Accuracy: 0.9135618479880775\n",
      "\n",
      "Precision: 0.9490380673025637\n",
      "\n",
      "Recall: 0.9135618479880775\n",
      "\n",
      "F-score: 0.9246094360292748\n",
      "\n",
      "\n",
      "Confusion matrix: \n",
      "\n",
      "[[ 52   5]\n",
      " [ 53 561]]\n",
      "\n",
      "Classification report: \n",
      "\n",
      "              precision    recall  f1-score   support\n",
      "\n",
      "         DOM       0.50      0.91      0.64        57\n",
      "       OTHER       0.99      0.91      0.95       614\n",
      "\n",
      "    accuracy                           0.91       671\n",
      "   macro avg       0.74      0.91      0.80       671\n",
      "weighted avg       0.95      0.91      0.92       671\n",
      "\n",
      "\n",
      "\talpha: 0.8069544078060596\n",
      "\n",
      "\tbinarize: 0.0\n",
      "\n",
      "\tclass_prior: None\n",
      "\n",
      "\tfit_prior: True\n",
      "\n"
     ]
    }
   ],
   "source": [
    "print('Accuracy: {}\\n'.format(accuracy_score(Ypred,testY)))\n",
    "print('Precision: {}\\n'.format(precision_score(Ypred,testY, average='weighted')))\n",
    "print('Recall: {}\\n'.format(recall_score(Ypred,testY, average='weighted')))\n",
    "print('F-score: {}\\n'.format(f1_score(Ypred,testY, average='weighted')))\n",
    "print('\\nConfusion matrix: \\n')\n",
    "print(str(confusion_matrix(Ypred,testY)) + '\\n')\n",
    "print('Classification report: \\n')\n",
    "print(classification_report(Ypred,testY) + '\\n')\n",
    "best_parameters = clf_3.best_estimator_.get_params()\n",
    "for params in sorted(best_parameters.keys()):\n",
    "    print(\"\\t%s: %r\\n\" % (params, best_parameters[params]))"
   ]
  },
  {
   "cell_type": "code",
   "execution_count": 80,
   "metadata": {},
   "outputs": [
    {
     "name": "stdout",
     "output_type": "stream",
     "text": [
      "[[ 52  53]\n",
      " [  5 561]]\n"
     ]
    },
    {
     "data": {
      "text/plain": [
       "<sklearn.metrics._plot.confusion_matrix.ConfusionMatrixDisplay at 0x7f859eb86be0>"
      ]
     },
     "execution_count": 80,
     "metadata": {},
     "output_type": "execute_result"
    },
    {
     "data": {
      "image/png": "[encoded data removed]",
      "text/plain": [
       "<Figure size 432x288 with 2 Axes>"
      ]
     },
     "metadata": {},
     "output_type": "display_data"
    }
   ],
   "source": [
    "# Matriz de confusion para DOM y Other\n",
    "print(confusion_matrix(testY, Ypred))\n",
    "BernL = plot_confusion_matrix(clf_3, Xtest, testY, cmap=plt.cm.Blues, \n",
    "                      display_labels=[\"DOM\",\"OTHER\"])\n",
    "BernL.ax_.set_title(\"Bernoulli lematizado\")\n",
    "BernL"
   ]
  },
  {
   "cell_type": "code",
   "execution_count": 81,
   "metadata": {},
   "outputs": [
    {
     "data": {
      "text/plain": [
       "<matplotlib.axes._subplots.AxesSubplot at 0x7f85e4ea6240>"
      ]
     },
     "execution_count": 81,
     "metadata": {},
     "output_type": "execute_result"
    },
    {
     "data": {
      "image/png": "[encoded data removed]",
      "text/plain": [
       "<Figure size 432x288 with 1 Axes>"
      ]
     },
     "metadata": {},
     "output_type": "display_data"
    }
   ],
   "source": [
    "# podemos ver como se encuentran distribuidos los elementos de nuestro set de datos\n",
    "X_test_embedded = TSNE(n_components=3).fit_transform(Xtest)\n",
    "plt.figure()\n",
    "tsne_result_df = pd.DataFrame({'tsne_1': X_test_embedded[:,0], 'tsne_2': X_test_embedded[:,1], 'label': testY})\n",
    "sns.scatterplot(x='tsne_1', y='tsne_2', hue='label', data=tsne_result_df)"
   ]
  },
  {
   "cell_type": "markdown",
   "metadata": {},
   "source": [
    "# MultinomialNB"
   ]
  },
  {
   "cell_type": "code",
   "execution_count": 82,
   "metadata": {},
   "outputs": [
    {
     "name": "stdout",
     "output_type": "stream",
     "text": [
      "Fitting 5 folds for each of 100 candidates, totalling 500 fits\n"
     ]
    },
    {
     "name": "stderr",
     "output_type": "stream",
     "text": [
      "[Parallel(n_jobs=-1)]: Using backend LokyBackend with 16 concurrent workers.\n",
      "[Parallel(n_jobs=-1)]: Batch computation too fast (0.0585s.) Setting batch_size=2.\n",
      "[Parallel(n_jobs=-1)]: Done   9 tasks      | elapsed:    0.3s\n",
      "[Parallel(n_jobs=-1)]: Done  18 tasks      | elapsed:    0.4s\n",
      "[Parallel(n_jobs=-1)]: Done  29 tasks      | elapsed:    0.7s\n",
      "[Parallel(n_jobs=-1)]: Done  48 tasks      | elapsed:    0.9s\n",
      "[Parallel(n_jobs=-1)]: Done  74 tasks      | elapsed:    1.2s\n",
      "[Parallel(n_jobs=-1)]: Done 100 tasks      | elapsed:    1.4s\n",
      "[Parallel(n_jobs=-1)]: Done 130 tasks      | elapsed:    1.7s\n",
      "[Parallel(n_jobs=-1)]: Done 160 tasks      | elapsed:    1.9s\n",
      "[Parallel(n_jobs=-1)]: Done 194 tasks      | elapsed:    2.2s\n",
      "[Parallel(n_jobs=-1)]: Done 228 tasks      | elapsed:    2.4s\n",
      "[Parallel(n_jobs=-1)]: Done 266 tasks      | elapsed:    2.7s\n",
      "[Parallel(n_jobs=-1)]: Done 304 tasks      | elapsed:    2.9s\n",
      "[Parallel(n_jobs=-1)]: Done 346 tasks      | elapsed:    3.2s\n",
      "[Parallel(n_jobs=-1)]: Done 388 tasks      | elapsed:    3.4s\n",
      "[Parallel(n_jobs=-1)]: Done 434 tasks      | elapsed:    3.7s\n",
      "[Parallel(n_jobs=-1)]: Done 500 out of 500 | elapsed:    4.1s finished\n"
     ]
    }
   ],
   "source": [
    "from sklearn.naive_bayes import MultinomialNB\n",
    "paramGrid = {'alpha': scipy.stats.expon(scale=1.0)}\n",
    "Multinomial = MultinomialNB()\n",
    "clf_multi = RandomizedSearchCV(Multinomial, paramGrid,n_iter=nIter,cv=crossV, n_jobs=jobs, verbose=10)\n",
    "clf_multi.fit(XLemma, trainY)\n",
    "Ypred=clf_multi.predict(Xtest)"
   ]
  },
  {
   "cell_type": "code",
   "execution_count": 83,
   "metadata": {},
   "outputs": [
    {
     "name": "stdout",
     "output_type": "stream",
     "text": [
      "Accuracy: 0.9269746646795827\n",
      "\n",
      "Precision: 0.9489719147600165\n",
      "\n",
      "Recall: 0.9269746646795827\n",
      "\n",
      "F-score: 0.9336280704787886\n",
      "\n",
      "\n",
      "Confusion matrix: \n",
      "\n",
      "[[ 62   6]\n",
      " [ 43 560]]\n",
      "\n",
      "Classification report: \n",
      "\n",
      "              precision    recall  f1-score   support\n",
      "\n",
      "         DOM       0.59      0.91      0.72        68\n",
      "       OTHER       0.99      0.93      0.96       603\n",
      "\n",
      "    accuracy                           0.93       671\n",
      "   macro avg       0.79      0.92      0.84       671\n",
      "weighted avg       0.95      0.93      0.93       671\n",
      "\n",
      "\n",
      "\talpha: 2.15067189880474\n",
      "\n",
      "\tclass_prior: None\n",
      "\n",
      "\tfit_prior: True\n",
      "\n"
     ]
    }
   ],
   "source": [
    "print('Accuracy: {}\\n'.format(accuracy_score(Ypred,testY)))\n",
    "print('Precision: {}\\n'.format(precision_score(Ypred,testY, average='weighted')))\n",
    "print('Recall: {}\\n'.format(recall_score(Ypred,testY, average='weighted')))\n",
    "print('F-score: {}\\n'.format(f1_score(Ypred,testY, average='weighted')))\n",
    "print('\\nConfusion matrix: \\n')\n",
    "print(str(confusion_matrix(Ypred,testY)) + '\\n')\n",
    "print('Classification report: \\n')\n",
    "print(classification_report(Ypred,testY) + '\\n')\n",
    "best_parameters = clf_multi.best_estimator_.get_params()\n",
    "for params in sorted(best_parameters.keys()):\n",
    "    print(\"\\t%s: %r\\n\" % (params, best_parameters[params]))"
   ]
  },
  {
   "cell_type": "code",
   "execution_count": 84,
   "metadata": {},
   "outputs": [
    {
     "name": "stdout",
     "output_type": "stream",
     "text": [
      "[[ 62  43]\n",
      " [  6 560]]\n"
     ]
    },
    {
     "data": {
      "text/plain": [
       "<sklearn.metrics._plot.confusion_matrix.ConfusionMatrixDisplay at 0x7f85d2641358>"
      ]
     },
     "execution_count": 84,
     "metadata": {},
     "output_type": "execute_result"
    },
    {
     "data": {
      "image/png": "[encoded data removed]",
      "text/plain": [
       "<Figure size 432x288 with 2 Axes>"
      ]
     },
     "metadata": {},
     "output_type": "display_data"
    }
   ],
   "source": [
    "# Matriz de confusion para DOM y Other\n",
    "print(confusion_matrix(testY, Ypred))\n",
    "Multi = plot_confusion_matrix(clf_multi, Xtest, testY, cmap=plt.cm.Blues, \n",
    "                      display_labels=[\"DOM\",\"OTHER\"])\n",
    "Multi.ax_.set_title(\"MultinomialNB\")\n",
    "Multi"
   ]
  },
  {
   "cell_type": "code",
   "execution_count": 85,
   "metadata": {},
   "outputs": [
    {
     "data": {
      "text/plain": [
       "<matplotlib.axes._subplots.AxesSubplot at 0x7f85e4ddad30>"
      ]
     },
     "execution_count": 85,
     "metadata": {},
     "output_type": "execute_result"
    },
    {
     "data": {
      "image/png": "[encoded data removed]",
      "text/plain": [
       "<Figure size 432x288 with 1 Axes>"
      ]
     },
     "metadata": {},
     "output_type": "display_data"
    }
   ],
   "source": [
    "# podemos ver como se encuentran distribuidos los elementos de nuestro set de datos\n",
    "X_test_embedded = TSNE(n_components=3).fit_transform(Xtest)\n",
    "plt.figure()\n",
    "tsne_result_df = pd.DataFrame({'tsne_1': X_test_embedded[:,0], 'tsne_2': X_test_embedded[:,1], 'label': testY})\n",
    "sns.scatterplot(x='tsne_1', y='tsne_2', hue='label', data=tsne_result_df)"
   ]
  },
  {
   "cell_type": "code",
   "execution_count": null,
   "metadata": {},
   "outputs": [],
   "source": []
  }
 ],
 "metadata": {
  "kernelspec": {
   "display_name": "Python 3",
   "language": "python",
   "name": "python3"
  },
  "language_info": {
   "codemirror_mode": {
    "name": "ipython",
    "version": 3
   },
   "file_extension": ".py",
   "mimetype": "text/x-python",
   "name": "python",
   "nbconvert_exporter": "python",
   "pygments_lexer": "ipython3",
   "version": "3.5.2"
  }
 },
 "nbformat": 4,
 "nbformat_minor": 2
}
